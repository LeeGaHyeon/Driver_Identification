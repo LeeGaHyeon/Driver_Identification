{
 "cells": [
  {
   "cell_type": "markdown",
   "id": "2ac28be9-af71-4ae2-a6b8-38c4bfff45a1",
   "metadata": {},
   "source": [
    "### 스마트폰 센서 데이터 실험"
   ]
  },
  {
   "cell_type": "code",
   "execution_count": 125,
   "id": "611323ad-b0a3-45ea-963a-43588069e9bd",
   "metadata": {
    "tags": []
   },
   "outputs": [],
   "source": [
    "import pandas as pd\n",
    "import os"
   ]
  },
  {
   "cell_type": "code",
   "execution_count": 126,
   "id": "714edb2c-8675-499e-a51e-744336d5999c",
   "metadata": {
    "tags": []
   },
   "outputs": [],
   "source": [
    "source_dir = \"origin_data/sensor\"  # 원본 csv 파일 경로\n",
    "dest_dir = \"new\"  # 35초 간격으로 처리한 후의 csv 파일 경로"
   ]
  },
  {
   "cell_type": "code",
   "execution_count": 127,
   "id": "074cccc1-8b51-46df-ace6-8ca51748abe2",
   "metadata": {
    "tags": []
   },
   "outputs": [],
   "source": [
    "if not os.path.exists(dest_dir):\n",
    "    os.makedirs(dest_dir)"
   ]
  },
  {
   "cell_type": "code",
   "execution_count": 128,
   "id": "625dceb8-a44e-4cbb-a832-9cdd81cfcf0f",
   "metadata": {
    "tags": []
   },
   "outputs": [],
   "source": [
    "name_list = ['anseonyeong','baekseungdo','cheonaeji','chunjihun','hurhongjun','jeongyubin','jojeongduk','kangjihyun','kangminjae','kimgangsu', 'kimminju', 'leeeunseo', 'leegahyeon', 'leegihun', 'leejaeho', 'leekanghyuk', 'leeseunglee', 'leeyunguel', 'ohseunghun', 'seosanghyeok']\n",
    "course_list = ['A', 'B', 'C']\n",
    "round_list = ['1', '2', '3', '4', '5', '6']"
   ]
  },
  {
   "cell_type": "code",
   "execution_count": 129,
   "id": "05389deb-5098-4b45-87b6-3ac531729878",
   "metadata": {
    "tags": []
   },
   "outputs": [],
   "source": [
    "for name in name_list:\n",
    "    for course in course_list:\n",
    "        for round in round_list:\n",
    "            file_path = f\"{source_dir}/{name}/{course}/{round}/Accelerometer.csv\"\n",
    "\n",
    "            if os.path.exists(file_path):\n",
    "                df = pd.read_csv(file_path)\n",
    "                start_time = 0\n",
    "                end_time = 35\n",
    "\n",
    "                # 필요한 하위 디렉토리 생성\n",
    "                dest_subdir = os.path.join(dest_dir, name, course, round)\n",
    "                if not os.path.exists(dest_subdir):\n",
    "                    os.makedirs(dest_subdir)\n",
    "\n",
    "                while end_time <= df['seconds_elapsed'].max():\n",
    "                    filtered_df = df[(df['seconds_elapsed'] >= start_time) & (df['seconds_elapsed'] <= end_time)]\n",
    "                    file_name = os.path.join(dest_subdir, f\"Filtered_Accelerometer_{start_time}-{end_time}.csv\")\n",
    "                    filtered_df.to_csv(file_name, index=False)\n",
    "                    start_time = end_time\n",
    "                    end_time += 35"
   ]
  },
  {
   "cell_type": "code",
   "execution_count": 130,
   "id": "a4e429d4-bfc9-4adf-b97b-119f4c42b3e8",
   "metadata": {
    "tags": []
   },
   "outputs": [],
   "source": [
    "import pandas as pd\n",
    "import numpy as np\n",
    "import matplotlib.cm as cm\n",
    "from scipy.signal import spectrogram\n",
    "import cv2\n",
    "import os"
   ]
  },
  {
   "cell_type": "code",
   "execution_count": 131,
   "id": "04350d6a-eabe-4aef-8b0a-14e459620e38",
   "metadata": {
    "tags": []
   },
   "outputs": [],
   "source": [
    "source_dir = \"new\"  # 소스 디렉토리 경로\n",
    "dest_dir = \"longitudinal_spectrogram\"  # 대상 디렉토리 경로"
   ]
  },
  {
   "cell_type": "code",
   "execution_count": 132,
   "id": "34787396-69c4-44a8-8bf7-4a1a8cfb4eb2",
   "metadata": {
    "tags": []
   },
   "outputs": [],
   "source": [
    "if not os.path.exists(dest_dir):\n",
    "    os.makedirs(dest_dir)"
   ]
  },
  {
   "cell_type": "code",
   "execution_count": 133,
   "id": "3af7315f-1891-4765-9e00-80b48ad47374",
   "metadata": {
    "tags": []
   },
   "outputs": [],
   "source": [
    "name_list = ['anseonyeong','baekseungdo','cheonaeji','chunjihun','hurhongjun','jeongyubin','jojeongduk','kangjihyun','kangminjae','kimgangsu', 'kimminju', 'leeeunseo', 'leegahyeon', 'leegihun', 'leejaeho', 'leekanghyuk', 'leeseunglee', 'leeyunguel', 'ohseunghun', 'seosanghyeok']\n",
    "course_list = ['A','B','C']\n",
    "round_list = ['1', '2', '3', '4', '5', '6']"
   ]
  },
  {
   "cell_type": "code",
   "execution_count": 134,
   "id": "6d3d92cb-db3f-43e2-b77b-3473d5b3bc75",
   "metadata": {
    "tags": []
   },
   "outputs": [],
   "source": [
    "for name in name_list:\n",
    "    for course in course_list:\n",
    "        for round in round_list:\n",
    "            source_path = os.path.join(source_dir, name, course, round)\n",
    "            dest_path = os.path.join(dest_dir, f\"{name}_spectrogram\", course, round)\n",
    "\n",
    "            if not os.path.exists(dest_path):\n",
    "                os.makedirs(dest_path)\n",
    "\n",
    "            n = 0\n",
    "\n",
    "            for file_name in os.listdir(source_path):\n",
    "                if file_name.endswith(\".csv\"):\n",
    "                    n += 1\n",
    "                    # CSV 파일 로드\n",
    "                    data = pd.read_csv(os.path.join(source_path, file_name))\n",
    "                    time = data['seconds_elapsed'] - data['seconds_elapsed'].iloc[0]\n",
    "\n",
    "                    longitudinal_acceleration = data['x']\n",
    "\n",
    "                    f, t, Sxx = spectrogram(longitudinal_acceleration, fs=5, nperseg=224, noverlap=112)\n",
    "                    Sxx = np.log(Sxx)\n",
    "                    Sxx_normalized = (Sxx - Sxx.min()) / (Sxx.max() - Sxx.min())\n",
    "\n",
    "                    colored_spectrogram = cm.viridis(Sxx_normalized)\n",
    "                    colored_spectrogram_bgr = cv2.cvtColor((colored_spectrogram * 255).astype(np.uint8), cv2.COLOR_RGB2BGR)\n",
    "\n",
    "                    filename = os.path.splitext(file_name)[0]\n",
    "                    npy_save_path = os.path.join(dest_path, f\"spectrogram_{n}.npy\")\n",
    "                    np.save(npy_save_path, np.array(colored_spectrogram_bgr))\n",
    "\n",
    "                    n += 1"
   ]
  },
  {
   "cell_type": "code",
   "execution_count": 135,
   "id": "71328b41-2f87-410f-8203-3262d376d6bd",
   "metadata": {
    "tags": []
   },
   "outputs": [],
   "source": [
    "import os\n",
    "import csv\n",
    "import glob"
   ]
  },
  {
   "cell_type": "code",
   "execution_count": 136,
   "id": "89ebf299-82c6-4bbc-87b8-7f5e36b49ef4",
   "metadata": {
    "tags": []
   },
   "outputs": [],
   "source": [
    "label_mapping = {\n",
    "    'anseonyeong':0,'baekseungdo':1,'cheonaeji':2,'chunjihun':3,'hurhongjun':4,'jeongyubin':5,'jojeongduk':6,'kangjihyun':7,'kangminjae':8,'kimgangsu':9, 'kimminju':10, 'leeeunseo':11, 'leegahyeon':12, 'leegihun':13, 'leejaeho':14, 'leekanghyuk':15, 'leeseunglee':16, 'leeyunguel':17, 'ohseunghun':18, 'seosanghyeok':19\n",
    "}"
   ]
  },
  {
   "cell_type": "code",
   "execution_count": 137,
   "id": "db1cee9f-457b-4266-949e-762b22380d5f",
   "metadata": {
    "tags": []
   },
   "outputs": [],
   "source": [
    "course_mapping = {\n",
    "    \"A\": 0,\"B\": 1,\"C\": 2\n",
    "}"
   ]
  },
  {
   "cell_type": "code",
   "execution_count": 138,
   "id": "a2efee78-1a5b-4b24-8918-489158b8a39f",
   "metadata": {
    "tags": []
   },
   "outputs": [],
   "source": [
    "round_mapping = {\n",
    "    \"1\": 0,\"2\": 1,\"3\": 2,\"4\": 3,\"5\": 4, \"6\":5\n",
    "}"
   ]
  },
  {
   "cell_type": "code",
   "execution_count": 139,
   "id": "36da4b0d-c591-4822-ad53-25b0e67fa418",
   "metadata": {
    "tags": []
   },
   "outputs": [],
   "source": [
    "name_lt = ['anseonyeong','baekseungdo','cheonaeji','chunjihun','hurhongjun','jeongyubin','jojeongduk','kangjihyun','kangminjae','kimgangsu']\n",
    "course_list = ['A','B','C']\n",
    "round_lt = ['1', '2', '3', '4', '5', '6']"
   ]
  },
  {
   "cell_type": "code",
   "execution_count": 140,
   "id": "86b241c9-fbd6-409b-9ea3-2716f0a58bca",
   "metadata": {
    "tags": []
   },
   "outputs": [
    {
     "name": "stdout",
     "output_type": "stream",
     "text": [
      "anseonyeong_C --> done\n",
      "anseonyeong_C --> done\n",
      "anseonyeong_C --> done\n",
      "anseonyeong_C --> done\n",
      "anseonyeong_C --> done\n",
      "anseonyeong_C --> done\n",
      "baekseungdo_C --> done\n",
      "baekseungdo_C --> done\n",
      "baekseungdo_C --> done\n",
      "baekseungdo_C --> done\n",
      "baekseungdo_C --> done\n",
      "baekseungdo_C --> done\n",
      "cheonaeji_C --> done\n",
      "cheonaeji_C --> done\n",
      "cheonaeji_C --> done\n",
      "cheonaeji_C --> done\n",
      "cheonaeji_C --> done\n",
      "cheonaeji_C --> done\n",
      "chunjihun_C --> done\n",
      "chunjihun_C --> done\n",
      "chunjihun_C --> done\n",
      "chunjihun_C --> done\n",
      "chunjihun_C --> done\n",
      "chunjihun_C --> done\n",
      "hurhongjun_C --> done\n",
      "hurhongjun_C --> done\n",
      "hurhongjun_C --> done\n",
      "hurhongjun_C --> done\n",
      "hurhongjun_C --> done\n",
      "hurhongjun_C --> done\n",
      "jeongyubin_C --> done\n",
      "jeongyubin_C --> done\n",
      "jeongyubin_C --> done\n",
      "jeongyubin_C --> done\n",
      "jeongyubin_C --> done\n",
      "jeongyubin_C --> done\n",
      "jojeongduk_C --> done\n",
      "jojeongduk_C --> done\n",
      "jojeongduk_C --> done\n",
      "jojeongduk_C --> done\n",
      "jojeongduk_C --> done\n",
      "jojeongduk_C --> done\n",
      "kangjihyun_C --> done\n",
      "kangjihyun_C --> done\n",
      "kangjihyun_C --> done\n",
      "kangjihyun_C --> done\n",
      "kangjihyun_C --> done\n",
      "kangjihyun_C --> done\n",
      "kangminjae_C --> done\n",
      "kangminjae_C --> done\n",
      "kangminjae_C --> done\n",
      "kangminjae_C --> done\n",
      "kangminjae_C --> done\n",
      "kangminjae_C --> done\n",
      "kimgangsu_C --> done\n",
      "kimgangsu_C --> done\n",
      "kimgangsu_C --> done\n",
      "kimgangsu_C --> done\n",
      "kimgangsu_C --> done\n",
      "kimgangsu_C --> done\n",
      "CSV 파일 \"20_longitudinal_spectrogram.csv\"이 생성되었습니다.\n"
     ]
    }
   ],
   "source": [
    "# CSV 파일 생성 및 열 이름 설정\n",
    "csv_filename = \"20_longitudinal_spectrogram.csv\"\n",
    "with open(csv_filename, mode='w', newline='') as file:\n",
    "    writer = csv.writer(file)\n",
    "    writer.writerow([\"label\", \"course\", \"round\", \"file\"])\n",
    "    frame = 0\n",
    "    for name in name_lt:\n",
    "\n",
    "        for c in course:\n",
    "            for r in round_lt:\n",
    "                path = f'./longitudinal_spectrogram/{name}_spectrogram/{c}/{r}'\n",
    "                file_list = os.listdir(path)  # 파일명\n",
    "\n",
    "                for f in file_list:\n",
    "                    frame += 1\n",
    "                    file = os.path.join(path, f)\n",
    "\n",
    "                    label = label_mapping.get(name, -1)  # Label 매핑\n",
    "                    course_name = course_mapping.get(c, -1)  # Course 매핑\n",
    "                    round = round_mapping.get(r, -1)\n",
    "                    # print(label, course_name, file)\n",
    "                    # CSV 파일에 데이터 쓰기\n",
    "                    writer.writerow([label, course_name, r, file])\n",
    "                print(f'{name}_{c} --> done')\n",
    "\n",
    "print(f'CSV 파일 \"{csv_filename}\"이 생성되었습니다.')"
   ]
  },
  {
   "cell_type": "code",
   "execution_count": 141,
   "id": "8d5533ab-09e0-4068-8c96-8aed2a2649df",
   "metadata": {
    "tags": []
   },
   "outputs": [],
   "source": [
    "import numpy as np\n",
    "import pandas as pd\n",
    "import os\n",
    "import cv2\n",
    "import glob\n",
    "import timm\n",
    "from tqdm import tqdm\n",
    "import random\n",
    "import matplotlib.pyplot as plt\n",
    "\n",
    "import torch\n",
    "import torch.nn as nn\n",
    "import torch.nn.functional as F\n",
    "import torch.optim as optim\n",
    "from torch.utils.data import Dataset, DataLoader\n",
    "import torchvision.transforms as transforms\n",
    "from torchvision.transforms import ToTensor\n",
    "from sklearn.metrics import accuracy_score\n",
    "from sklearn.metrics import confusion_matrix\n",
    "from sklearn.model_selection import train_test_split\n",
    "from sklearn.metrics import average_precision_score"
   ]
  },
  {
   "cell_type": "code",
   "execution_count": 142,
   "id": "95b12c35-22ab-46cd-96cb-de1c9a46ebd7",
   "metadata": {
    "tags": []
   },
   "outputs": [
    {
     "name": "stdout",
     "output_type": "stream",
     "text": [
      "cuda\n"
     ]
    }
   ],
   "source": [
    "device = torch.device('cuda' if torch.cuda.is_available() else 'cpu')\n",
    "print(device)"
   ]
  },
  {
   "cell_type": "code",
   "execution_count": 73,
   "id": "4d064f58-7502-459d-8915-8dfa13799af8",
   "metadata": {
    "tags": []
   },
   "outputs": [],
   "source": [
    "class CustomDataset(Dataset):\n",
    "    def __init__(self, csv, mode):\n",
    "        self.csv = csv\n",
    "        self.mode = mode\n",
    "\n",
    "    def __len__(self):\n",
    "        return self.csv.shape[0]\n",
    "\n",
    "    def __getitem__(self, idx):\n",
    "        file = self.csv.loc[idx, 'file']\n",
    "        label = torch.as_tensor(self.csv.loc[idx, 'label'], dtype=torch.long)\n",
    "        file = np.load(file)\n",
    "\n",
    "        return torch.Tensor(file).permute(2, 0, 1), label"
   ]
  },
  {
   "cell_type": "code",
   "execution_count": 74,
   "id": "8daf1c35-8445-4519-afe8-5a3a84a1a44e",
   "metadata": {
    "tags": []
   },
   "outputs": [],
   "source": [
    "class ResNet50GRUClassifier(nn.Module):\n",
    "    def __init__(self, num_classes, hidden_size, num_layers):\n",
    "        super(ResNet50GRUClassifier, self).__init__()\n",
    "\n",
    "        self.resnet = timm.create_model('resnet50', pretrained=True)\n",
    "        self.resnet = nn.Sequential(*list(self.resnet.children())[:-1])\n",
    "\n",
    "        self.hidden_size = hidden_size\n",
    "        self.num_layers = num_layers\n",
    "        self.gru = nn.GRU(2048, hidden_size, num_layers, batch_first=True, dropout=0.5)\n",
    "\n",
    "        self.fc = nn.Linear(hidden_size, num_classes)\n",
    "\n",
    "    def forward(self, x):\n",
    "        features = self.resnet(x)\n",
    "        features = features.view(features.size(0), -1)\n",
    "\n",
    "        h0 = torch.zeros(self.num_layers, x.size(0), self.hidden_size).to(x.device)\n",
    "        out, _ = self.gru(features.unsqueeze(1), h0)\n",
    "\n",
    "        output = self.fc(out[:, -1, :])\n",
    "        return output"
   ]
  },
  {
   "cell_type": "code",
   "execution_count": 75,
   "id": "0d7b0cf1-f9ad-4686-91e6-85696b502ca2",
   "metadata": {
    "tags": []
   },
   "outputs": [],
   "source": [
    "def calculate_voting_3(model, dataloader):\n",
    "    voting_3 = 0\n",
    "    voting_3_t = 0\n",
    "\n",
    "    for data, labels in dataloader:\n",
    "        data, labels = data.to(device), labels.to(device)\n",
    "\n",
    "        with torch.no_grad():\n",
    "            outputs = model(data)\n",
    "            ps = F.softmax(outputs, dim=1)\n",
    "\n",
    "            top_p, top_class = ps.topk(1, dim=1)\n",
    "\n",
    "        for i in range(len(labels)):\n",
    "            label = labels[i]\n",
    "            prediction = top_class[i].item()\n",
    "            voting_3 += prediction == label\n",
    "            voting_3_t += 1\n",
    "\n",
    "    return (voting_3 / voting_3_t) * 100"
   ]
  },
  {
   "cell_type": "code",
   "execution_count": 76,
   "id": "6e63ec8f-1793-488c-8617-733b3b777b70",
   "metadata": {
    "tags": []
   },
   "outputs": [],
   "source": [
    "def set_seed(seed=0):\n",
    "    random.seed(seed)\n",
    "    np.random.seed(seed)\n",
    "    torch.manual_seed(seed)\n",
    "    torch.cuda.manual_seed(seed)\n",
    "    torch.cuda.manual_seed_all(seed)\n",
    "\n",
    "    torch.backends.cudnn.deterministic = True\n",
    "    torch.backends.cudnn.benchmark = False\n",
    "\n",
    "    torch.backends.cudnn.enabled = True\n",
    "    torch.backends.cudnn.benchmark = False\n",
    "\n",
    "set_seed(7777)"
   ]
  },
  {
   "cell_type": "code",
   "execution_count": 77,
   "id": "59e68eca-db3e-4a22-bb5d-c22e340f5af1",
   "metadata": {
    "tags": []
   },
   "outputs": [],
   "source": [
    "from sklearn.metrics import precision_recall_curve, auc"
   ]
  },
  {
   "cell_type": "code",
   "execution_count": 78,
   "id": "1ead32ff-2f7b-4b41-9651-63ee299f56ba",
   "metadata": {
    "tags": []
   },
   "outputs": [],
   "source": [
    "def calculate_ap(y_true, y_scores):\n",
    "    precision, recall, _ = precision_recall_curve(y_true, y_scores)\n",
    "    return auc(recall, precision)"
   ]
  },
  {
   "cell_type": "code",
   "execution_count": 79,
   "id": "1cbd0a8d-e460-4a67-ab51-f7666afed9a5",
   "metadata": {
    "tags": []
   },
   "outputs": [],
   "source": [
    "def calculate_map(y_true, y_scores, num_classes):\n",
    "    aps = []\n",
    "    for class_id in range(num_classes):\n",
    "        class_targets = [1 if label == class_id else 0 for label in y_true]\n",
    "        class_scores = [score[class_id] for score in y_scores]\n",
    "        aps.append(calculate_ap(class_targets, class_scores))\n",
    "    return sum(aps) / len(aps)"
   ]
  },
  {
   "cell_type": "code",
   "execution_count": 80,
   "id": "91541157-6361-422d-b0c5-7b89e599fbd1",
   "metadata": {
    "tags": []
   },
   "outputs": [
    {
     "name": "stdout",
     "output_type": "stream",
     "text": [
      "cuda\n"
     ]
    }
   ],
   "source": [
    "device = torch.device('cuda' if torch.cuda.is_available() else 'cpu')\n",
    "print(device)"
   ]
  },
  {
   "cell_type": "code",
   "execution_count": 81,
   "id": "009d12f6-060a-41f1-bf26-aa95b9575310",
   "metadata": {
    "tags": []
   },
   "outputs": [],
   "source": [
    "# Load your data CSV file\n",
    "df = pd.read_csv('./10_longitudinal_spectrogram_10s.csv')"
   ]
  },
  {
   "cell_type": "code",
   "execution_count": 147,
   "id": "6e3c88c6-81f0-4f61-842b-6fccfdca750d",
   "metadata": {
    "tags": []
   },
   "outputs": [
    {
     "name": "stdout",
     "output_type": "stream",
     "text": [
      "cuda\n",
      "cuda\n",
      "------------------------------------------------------------------------\n",
      "Training for fold 1/6 ...\n",
      "epoch: 0\n"
     ]
    },
    {
     "name": "stderr",
     "output_type": "stream",
     "text": [
      "100%|██████████| 85/85 [00:01<00:00, 50.91it/s]\n",
      "100%|██████████| 18/18 [00:00<00:00, 137.38it/s]\n"
     ]
    },
    {
     "name": "stdout",
     "output_type": "stream",
     "text": [
      "Training Loss: 2.513109 \tValidation Loss: 2.344129\n",
      "Train Accuracy: 0.112941 \tValid Accuracy: 0.100000\n",
      "Validation loss decreased (inf --> 2.344129).  Saving model ...\n",
      "voting_1_ ACC: 0.1\n",
      "voting_3_ ACC: 0.09523809523809523\n",
      "voting_10_ ACC: 0.09090909090909091\n",
      "voting_all_ ACC: 0.1\n",
      "voting_1_ MAP :  0.9621723529769508\n",
      "voting_3_ MAP :  1.0\n",
      "voting_10_ MAP :  0.7\n",
      "voting_all_ MAP :  1.0\n",
      "voting_1_ F1 Score: 0.10000000000000002\n",
      "voting_3_ F1 Score: 0.09523809523809523\n",
      "voting_10_ F1 Score: 0.09090909090909091\n",
      "voting_all_ F1 Score: 0.10000000000000002\n",
      "voting_1 top3:  0.3\n",
      "voting_3 top3:  0.30158730158730157\n",
      "voting_10 top3:  0.2727272727272727\n",
      "voting_all top3:  0.3\n",
      "epoch: 1\n"
     ]
    },
    {
     "name": "stderr",
     "output_type": "stream",
     "text": [
      "100%|██████████| 85/85 [00:01<00:00, 59.97it/s]\n",
      "100%|██████████| 18/18 [00:00<00:00, 135.17it/s]\n"
     ]
    },
    {
     "name": "stdout",
     "output_type": "stream",
     "text": [
      "Training Loss: 2.324277 \tValidation Loss: 2.310890\n",
      "Train Accuracy: 0.121765 \tValid Accuracy: 0.133333\n",
      "Validation loss decreased (2.344129 --> 2.310890).  Saving model ...\n",
      "voting_1_ ACC: 0.13333333333333333\n",
      "voting_3_ ACC: 0.14285714285714285\n",
      "voting_10_ ACC: 0.09090909090909091\n",
      "voting_all_ ACC: 0.1\n",
      "voting_1_ MAP :  0.8322307956720988\n",
      "voting_3_ MAP :  0.8162509924805008\n",
      "voting_10_ MAP :  0.75\n",
      "voting_all_ MAP :  1.0\n",
      "voting_1_ F1 Score: 0.13333333333333333\n",
      "voting_3_ F1 Score: 0.14285714285714285\n",
      "voting_10_ F1 Score: 0.09090909090909091\n",
      "voting_all_ F1 Score: 0.10000000000000002\n",
      "voting_1 top3:  0.35555555555555557\n",
      "voting_3 top3:  0.3492063492063492\n",
      "voting_10 top3:  0.3181818181818182\n",
      "voting_all top3:  0.3\n",
      "epoch: 2\n"
     ]
    },
    {
     "name": "stderr",
     "output_type": "stream",
     "text": [
      "100%|██████████| 85/85 [00:01<00:00, 59.94it/s]\n",
      "100%|██████████| 18/18 [00:00<00:00, 134.18it/s]\n"
     ]
    },
    {
     "name": "stdout",
     "output_type": "stream",
     "text": [
      "Training Loss: 2.299934 \tValidation Loss: 2.307909\n",
      "Train Accuracy: 0.135294 \tValid Accuracy: 0.155556\n",
      "Validation loss decreased (2.310890 --> 2.307909).  Saving model ...\n",
      "voting_1_ ACC: 0.15555555555555556\n",
      "voting_3_ ACC: 0.12698412698412698\n",
      "voting_10_ ACC: 0.13636363636363635\n",
      "voting_all_ ACC: 0.1\n",
      "voting_1_ MAP :  0.9646300518536464\n",
      "voting_3_ MAP :  0.9526289682539683\n",
      "voting_10_ MAP :  0.5526315789473684\n",
      "voting_all_ MAP :  1.0\n",
      "voting_1_ F1 Score: 0.15555555555555556\n",
      "voting_3_ F1 Score: 0.12698412698412698\n",
      "voting_10_ F1 Score: 0.13636363636363635\n",
      "voting_all_ F1 Score: 0.10000000000000002\n",
      "voting_1 top3:  0.3111111111111111\n",
      "voting_3 top3:  0.31746031746031744\n",
      "voting_10 top3:  0.2727272727272727\n",
      "voting_all top3:  0.3\n",
      "epoch: 3\n"
     ]
    },
    {
     "name": "stderr",
     "output_type": "stream",
     "text": [
      "100%|██████████| 85/85 [00:01<00:00, 59.75it/s]\n",
      "100%|██████████| 18/18 [00:00<00:00, 129.53it/s]\n"
     ]
    },
    {
     "name": "stdout",
     "output_type": "stream",
     "text": [
      "Training Loss: 2.230013 \tValidation Loss: 2.249473\n",
      "Train Accuracy: 0.168235 \tValid Accuracy: 0.200000\n",
      "Validation loss decreased (2.307909 --> 2.249473).  Saving model ...\n",
      "voting_1_ ACC: 0.2\n",
      "voting_3_ ACC: 0.2222222222222222\n",
      "voting_10_ ACC: 0.22727272727272727\n",
      "voting_all_ ACC: 0.3\n",
      "voting_1_ MAP :  0.9071901324710552\n",
      "voting_3_ MAP :  0.8159795540716592\n",
      "voting_10_ MAP :  0.8526315789473684\n",
      "voting_all_ MAP :  1.0\n",
      "voting_1_ F1 Score: 0.20000000000000004\n",
      "voting_3_ F1 Score: 0.2222222222222222\n",
      "voting_10_ F1 Score: 0.22727272727272727\n",
      "voting_all_ F1 Score: 0.3\n",
      "voting_1 top3:  0.37222222222222223\n",
      "voting_3 top3:  0.42857142857142855\n",
      "voting_10 top3:  0.4090909090909091\n",
      "voting_all top3:  0.4\n",
      "epoch: 4\n"
     ]
    },
    {
     "name": "stderr",
     "output_type": "stream",
     "text": [
      "100%|██████████| 85/85 [00:01<00:00, 59.35it/s]\n",
      "100%|██████████| 18/18 [00:00<00:00, 146.61it/s]\n"
     ]
    },
    {
     "name": "stdout",
     "output_type": "stream",
     "text": [
      "Training Loss: 2.148792 \tValidation Loss: 2.152808\n",
      "Train Accuracy: 0.208235 \tValid Accuracy: 0.216667\n",
      "Validation loss decreased (2.249473 --> 2.152808).  Saving model ...\n",
      "voting_1_ ACC: 0.21666666666666667\n",
      "voting_3_ ACC: 0.2698412698412698\n",
      "voting_10_ ACC: 0.3181818181818182\n",
      "voting_all_ ACC: 0.3\n",
      "voting_1_ MAP :  0.9181326059817619\n",
      "voting_3_ MAP :  0.9465754424269546\n",
      "voting_10_ MAP :  0.9999999999999998\n",
      "voting_all_ MAP :  1.0\n",
      "voting_1_ F1 Score: 0.21666666666666667\n",
      "voting_3_ F1 Score: 0.2698412698412698\n",
      "voting_10_ F1 Score: 0.3181818181818182\n",
      "voting_all_ F1 Score: 0.3\n",
      "voting_1 top3:  0.48333333333333334\n",
      "voting_3 top3:  0.5396825396825397\n",
      "voting_10 top3:  0.5909090909090909\n",
      "voting_all top3:  0.6\n",
      "epoch: 5\n"
     ]
    },
    {
     "name": "stderr",
     "output_type": "stream",
     "text": [
      "100%|██████████| 85/85 [00:01<00:00, 61.81it/s]\n",
      "100%|██████████| 18/18 [00:00<00:00, 128.40it/s]\n"
     ]
    },
    {
     "name": "stdout",
     "output_type": "stream",
     "text": [
      "Training Loss: 2.090202 \tValidation Loss: 2.126716\n",
      "Train Accuracy: 0.232941 \tValid Accuracy: 0.222222\n",
      "Validation loss decreased (2.152808 --> 2.126716).  Saving model ...\n",
      "voting_1_ ACC: 0.2222222222222222\n",
      "voting_3_ ACC: 0.25396825396825395\n",
      "voting_10_ ACC: 0.3181818181818182\n",
      "voting_all_ ACC: 0.4\n",
      "voting_1_ MAP :  0.9068205356723353\n",
      "voting_3_ MAP :  0.9057335538880624\n",
      "voting_10_ MAP :  0.7976190476190474\n",
      "voting_all_ MAP :  0.95\n",
      "voting_1_ F1 Score: 0.2222222222222222\n",
      "voting_3_ F1 Score: 0.25396825396825395\n",
      "voting_10_ F1 Score: 0.3181818181818182\n",
      "voting_all_ F1 Score: 0.4000000000000001\n",
      "voting_1 top3:  0.5166666666666667\n",
      "voting_3 top3:  0.5714285714285714\n",
      "voting_10 top3:  0.6363636363636364\n",
      "voting_all top3:  0.7\n",
      "epoch: 6\n"
     ]
    },
    {
     "name": "stderr",
     "output_type": "stream",
     "text": [
      "100%|██████████| 85/85 [00:01<00:00, 60.79it/s]\n",
      "100%|██████████| 18/18 [00:00<00:00, 128.89it/s]\n"
     ]
    },
    {
     "name": "stdout",
     "output_type": "stream",
     "text": [
      "Training Loss: 1.975860 \tValidation Loss: 2.226408\n",
      "Train Accuracy: 0.257647 \tValid Accuracy: 0.233333\n",
      "voting_1_ ACC: 0.23333333333333334\n",
      "voting_3_ ACC: 0.25396825396825395\n",
      "voting_10_ ACC: 0.22727272727272727\n",
      "voting_all_ ACC: 0.2\n",
      "voting_1_ MAP :  0.9733047051883947\n",
      "voting_3_ MAP :  0.9163041258169935\n",
      "voting_10_ MAP :  1.0\n",
      "voting_all_ MAP :  1.0\n",
      "voting_1_ F1 Score: 0.23333333333333334\n",
      "voting_3_ F1 Score: 0.25396825396825395\n",
      "voting_10_ F1 Score: 0.22727272727272727\n",
      "voting_all_ F1 Score: 0.20000000000000004\n",
      "voting_1 top3:  0.43333333333333335\n",
      "voting_3 top3:  0.4603174603174603\n",
      "voting_10 top3:  0.45454545454545453\n",
      "voting_all top3:  0.5\n",
      "epoch: 7\n"
     ]
    },
    {
     "name": "stderr",
     "output_type": "stream",
     "text": [
      "100%|██████████| 85/85 [00:01<00:00, 60.75it/s]\n",
      "100%|██████████| 18/18 [00:00<00:00, 131.01it/s]\n"
     ]
    },
    {
     "name": "stdout",
     "output_type": "stream",
     "text": [
      "Training Loss: 1.998770 \tValidation Loss: 2.254903\n",
      "Train Accuracy: 0.260588 \tValid Accuracy: 0.200000\n",
      "voting_1_ ACC: 0.2\n",
      "voting_3_ ACC: 0.2222222222222222\n",
      "voting_10_ ACC: 0.3181818181818182\n",
      "voting_all_ ACC: 0.3\n",
      "voting_1_ MAP :  0.9432186358740767\n",
      "voting_3_ MAP :  0.9859693877551019\n",
      "voting_10_ MAP :  0.982142857142857\n",
      "voting_all_ MAP :  1.0\n",
      "voting_1_ F1 Score: 0.20000000000000004\n",
      "voting_3_ F1 Score: 0.2222222222222222\n",
      "voting_10_ F1 Score: 0.3181818181818182\n",
      "voting_all_ F1 Score: 0.3\n",
      "voting_1 top3:  0.4666666666666667\n",
      "voting_3 top3:  0.5079365079365079\n",
      "voting_10 top3:  0.5454545454545454\n",
      "voting_all top3:  0.6\n",
      "epoch: 8\n"
     ]
    },
    {
     "name": "stderr",
     "output_type": "stream",
     "text": [
      "100%|██████████| 85/85 [00:01<00:00, 59.51it/s]\n",
      "100%|██████████| 18/18 [00:00<00:00, 132.36it/s]\n"
     ]
    },
    {
     "name": "stdout",
     "output_type": "stream",
     "text": [
      "Training Loss: 1.983793 \tValidation Loss: 2.120430\n",
      "Train Accuracy: 0.264118 \tValid Accuracy: 0.222222\n",
      "Validation loss decreased (2.126716 --> 2.120430).  Saving model ...\n",
      "voting_1_ ACC: 0.2222222222222222\n",
      "voting_3_ ACC: 0.2857142857142857\n",
      "voting_10_ ACC: 0.3181818181818182\n",
      "voting_all_ ACC: 0.3\n",
      "voting_1_ MAP :  0.9537513228215251\n",
      "voting_3_ MAP :  0.9853285173718611\n",
      "voting_10_ MAP :  0.907142857142857\n",
      "voting_all_ MAP :  1.0\n",
      "voting_1_ F1 Score: 0.2222222222222222\n",
      "voting_3_ F1 Score: 0.2857142857142857\n",
      "voting_10_ F1 Score: 0.3181818181818182\n",
      "voting_all_ F1 Score: 0.3\n",
      "voting_1 top3:  0.5\n",
      "voting_3 top3:  0.5714285714285714\n",
      "voting_10 top3:  0.6363636363636364\n",
      "voting_all top3:  0.7\n",
      "epoch: 9\n"
     ]
    },
    {
     "name": "stderr",
     "output_type": "stream",
     "text": [
      "100%|██████████| 85/85 [00:01<00:00, 59.34it/s]\n",
      "100%|██████████| 18/18 [00:00<00:00, 145.25it/s]\n"
     ]
    },
    {
     "name": "stdout",
     "output_type": "stream",
     "text": [
      "Training Loss: 1.894220 \tValidation Loss: 2.132801\n",
      "Train Accuracy: 0.315882 \tValid Accuracy: 0.233333\n",
      "voting_1_ ACC: 0.23333333333333334\n",
      "voting_3_ ACC: 0.25396825396825395\n",
      "voting_10_ ACC: 0.36363636363636365\n",
      "voting_all_ ACC: 0.3\n",
      "voting_1_ MAP :  0.852060297789049\n",
      "voting_3_ MAP :  0.9080085575973733\n",
      "voting_10_ MAP :  0.9138888888888889\n",
      "voting_all_ MAP :  1.0\n",
      "voting_1_ F1 Score: 0.23333333333333334\n",
      "voting_3_ F1 Score: 0.25396825396825395\n",
      "voting_10_ F1 Score: 0.36363636363636365\n",
      "voting_all_ F1 Score: 0.3\n",
      "voting_1 top3:  0.5166666666666667\n",
      "voting_3 top3:  0.5396825396825397\n",
      "voting_10 top3:  0.6363636363636364\n",
      "voting_all top3:  0.7\n",
      "epoch: 10\n"
     ]
    },
    {
     "name": "stderr",
     "output_type": "stream",
     "text": [
      "100%|██████████| 85/85 [00:01<00:00, 60.23it/s]\n",
      "100%|██████████| 18/18 [00:00<00:00, 134.10it/s]\n"
     ]
    },
    {
     "name": "stdout",
     "output_type": "stream",
     "text": [
      "Training Loss: 1.849948 \tValidation Loss: 2.287338\n",
      "Train Accuracy: 0.298235 \tValid Accuracy: 0.205556\n",
      "voting_1_ ACC: 0.20555555555555555\n",
      "voting_3_ ACC: 0.2222222222222222\n",
      "voting_10_ ACC: 0.22727272727272727\n",
      "voting_all_ ACC: 0.2\n",
      "voting_1_ MAP :  0.9701760569526723\n",
      "voting_3_ MAP :  0.9589017793352157\n",
      "voting_10_ MAP :  0.925\n",
      "voting_all_ MAP :  1.0\n",
      "voting_1_ F1 Score: 0.20555555555555555\n",
      "voting_3_ F1 Score: 0.2222222222222222\n",
      "voting_10_ F1 Score: 0.22727272727272727\n",
      "voting_all_ F1 Score: 0.20000000000000004\n",
      "voting_1 top3:  0.4722222222222222\n",
      "voting_3 top3:  0.4444444444444444\n",
      "voting_10 top3:  0.5\n",
      "voting_all top3:  0.5\n",
      "epoch: 11\n"
     ]
    },
    {
     "name": "stderr",
     "output_type": "stream",
     "text": [
      "100%|██████████| 85/85 [00:01<00:00, 62.04it/s]\n",
      "100%|██████████| 18/18 [00:00<00:00, 119.57it/s]\n"
     ]
    },
    {
     "name": "stdout",
     "output_type": "stream",
     "text": [
      "Training Loss: 1.872523 \tValidation Loss: 2.280505\n",
      "Train Accuracy: 0.320588 \tValid Accuracy: 0.211111\n",
      "voting_1_ ACC: 0.2111111111111111\n",
      "voting_3_ ACC: 0.23809523809523808\n",
      "voting_10_ ACC: 0.22727272727272727\n",
      "voting_all_ ACC: 0.2\n",
      "voting_1_ MAP :  0.9711958817901453\n",
      "voting_3_ MAP :  0.9787878787878788\n",
      "voting_10_ MAP :  0.9666666666666666\n",
      "voting_all_ MAP :  1.0\n",
      "voting_1_ F1 Score: 0.2111111111111111\n",
      "voting_3_ F1 Score: 0.23809523809523808\n",
      "voting_10_ F1 Score: 0.22727272727272727\n",
      "voting_all_ F1 Score: 0.20000000000000004\n",
      "voting_1 top3:  0.43333333333333335\n",
      "voting_3 top3:  0.4126984126984127\n",
      "voting_10 top3:  0.45454545454545453\n",
      "voting_all top3:  0.5\n",
      "epoch: 12\n"
     ]
    },
    {
     "name": "stderr",
     "output_type": "stream",
     "text": [
      "100%|██████████| 85/85 [00:01<00:00, 59.91it/s]\n",
      "100%|██████████| 18/18 [00:00<00:00, 132.99it/s]\n"
     ]
    },
    {
     "name": "stdout",
     "output_type": "stream",
     "text": [
      "Training Loss: 1.839519 \tValidation Loss: 2.233434\n",
      "Train Accuracy: 0.321765 \tValid Accuracy: 0.211111\n",
      "voting_1_ ACC: 0.2111111111111111\n",
      "voting_3_ ACC: 0.23809523809523808\n",
      "voting_10_ ACC: 0.22727272727272727\n",
      "voting_all_ ACC: 0.2\n",
      "voting_1_ MAP :  0.9848759828220675\n",
      "voting_3_ MAP :  0.9662061467943821\n",
      "voting_10_ MAP :  0.9266666666666665\n",
      "voting_all_ MAP :  0.8333333333333333\n",
      "voting_1_ F1 Score: 0.2111111111111111\n",
      "voting_3_ F1 Score: 0.23809523809523808\n",
      "voting_10_ F1 Score: 0.22727272727272727\n",
      "voting_all_ F1 Score: 0.20000000000000004\n",
      "voting_1 top3:  0.4388888888888889\n",
      "voting_3 top3:  0.42857142857142855\n",
      "voting_10 top3:  0.5\n",
      "voting_all top3:  0.7\n",
      "epoch: 13\n"
     ]
    },
    {
     "name": "stderr",
     "output_type": "stream",
     "text": [
      "100%|██████████| 85/85 [00:01<00:00, 60.87it/s]\n",
      "100%|██████████| 18/18 [00:00<00:00, 132.54it/s]\n"
     ]
    },
    {
     "name": "stdout",
     "output_type": "stream",
     "text": [
      "Training Loss: 1.860838 \tValidation Loss: 2.215575\n",
      "Train Accuracy: 0.309412 \tValid Accuracy: 0.222222\n",
      "voting_1_ ACC: 0.2222222222222222\n",
      "voting_3_ ACC: 0.2222222222222222\n",
      "voting_10_ ACC: 0.22727272727272727\n",
      "voting_all_ ACC: 0.3\n",
      "voting_1_ MAP :  0.954472423368347\n",
      "voting_3_ MAP :  0.9635531135531135\n",
      "voting_10_ MAP :  0.9428571428571428\n",
      "voting_all_ MAP :  1.0\n",
      "voting_1_ F1 Score: 0.2222222222222222\n",
      "voting_3_ F1 Score: 0.2222222222222222\n",
      "voting_10_ F1 Score: 0.22727272727272727\n",
      "voting_all_ F1 Score: 0.3\n",
      "voting_1 top3:  0.4777777777777778\n",
      "voting_3 top3:  0.4603174603174603\n",
      "voting_10 top3:  0.5909090909090909\n",
      "voting_all top3:  0.5\n",
      "epoch: 14\n"
     ]
    },
    {
     "name": "stderr",
     "output_type": "stream",
     "text": [
      "100%|██████████| 85/85 [00:01<00:00, 59.41it/s]\n",
      "100%|██████████| 18/18 [00:00<00:00, 135.98it/s]\n"
     ]
    },
    {
     "name": "stdout",
     "output_type": "stream",
     "text": [
      "Training Loss: 1.877746 \tValidation Loss: 2.189188\n",
      "Train Accuracy: 0.328235 \tValid Accuracy: 0.244444\n",
      "voting_1_ ACC: 0.24444444444444444\n",
      "voting_3_ ACC: 0.2698412698412698\n",
      "voting_10_ ACC: 0.2727272727272727\n",
      "voting_all_ ACC: 0.2\n",
      "voting_1_ MAP :  0.9541526878600539\n",
      "voting_3_ MAP :  0.9472534072917704\n",
      "voting_10_ MAP :  1.0\n",
      "voting_all_ MAP :  1.0\n",
      "voting_1_ F1 Score: 0.24444444444444444\n",
      "voting_3_ F1 Score: 0.2698412698412698\n",
      "voting_10_ F1 Score: 0.2727272727272727\n",
      "voting_all_ F1 Score: 0.20000000000000004\n",
      "voting_1 top3:  0.5111111111111111\n",
      "voting_3 top3:  0.47619047619047616\n",
      "voting_10 top3:  0.5\n",
      "voting_all top3:  0.6\n",
      "------------------------------------------------------------------------\n",
      "Training for fold 2/6 ...\n",
      "epoch: 0\n"
     ]
    },
    {
     "name": "stderr",
     "output_type": "stream",
     "text": [
      "100%|██████████| 87/87 [00:01<00:00, 58.66it/s]\n",
      "100%|██████████| 17/17 [00:00<00:00, 125.26it/s]\n"
     ]
    },
    {
     "name": "stdout",
     "output_type": "stream",
     "text": [
      "Training Loss: 2.509583 \tValidation Loss: 2.349880\n",
      "Train Accuracy: 0.110345 \tValid Accuracy: 0.117647\n",
      "Validation loss decreased (inf --> 2.349880).  Saving model ...\n",
      "voting_1_ ACC: 0.12345679012345678\n",
      "voting_3_ ACC: 0.12280701754385964\n",
      "voting_10_ ACC: 0.1\n",
      "voting_all_ ACC: 0.1\n",
      "voting_1_ MAP :  0.9176745531157298\n",
      "voting_3_ MAP :  0.8280423280423279\n",
      "voting_10_ MAP :  0.8333333333333333\n",
      "voting_all_ MAP :  1.0\n",
      "voting_1_ F1 Score: 0.12345679012345678\n",
      "voting_3_ F1 Score: 0.12280701754385964\n",
      "voting_10_ F1 Score: 0.10000000000000002\n",
      "voting_all_ F1 Score: 0.10000000000000002\n",
      "voting_1 top3:  0.29012345679012347\n",
      "voting_3 top3:  0.2982456140350877\n",
      "voting_10 top3:  0.3\n",
      "voting_all top3:  0.3\n",
      "epoch: 1\n"
     ]
    },
    {
     "name": "stderr",
     "output_type": "stream",
     "text": [
      "100%|██████████| 87/87 [00:01<00:00, 60.13it/s]\n",
      "100%|██████████| 17/17 [00:00<00:00, 141.09it/s]\n"
     ]
    },
    {
     "name": "stdout",
     "output_type": "stream",
     "text": [
      "Training Loss: 2.326337 \tValidation Loss: 2.318651\n",
      "Train Accuracy: 0.116092 \tValid Accuracy: 0.070588\n",
      "Validation loss decreased (2.349880 --> 2.318651).  Saving model ...\n",
      "voting_1_ ACC: 0.07407407407407407\n",
      "voting_3_ ACC: 0.08771929824561403\n",
      "voting_10_ ACC: 0.1\n",
      "voting_all_ ACC: 0.1\n",
      "voting_1_ MAP :  0.9652777777777779\n",
      "voting_3_ MAP :  0.6492492492492492\n",
      "voting_10_ MAP :  0.0900735294117647\n",
      "voting_all_ MAP :  1.0\n",
      "voting_1_ F1 Score: 0.07407407407407407\n",
      "voting_3_ F1 Score: 0.08771929824561403\n",
      "voting_10_ F1 Score: 0.10000000000000002\n",
      "voting_all_ F1 Score: 0.10000000000000002\n",
      "voting_1 top3:  0.29012345679012347\n",
      "voting_3 top3:  0.2807017543859649\n",
      "voting_10 top3:  0.3\n",
      "voting_all top3:  0.3\n",
      "epoch: 2\n"
     ]
    },
    {
     "name": "stderr",
     "output_type": "stream",
     "text": [
      "100%|██████████| 87/87 [00:01<00:00, 59.63it/s]\n",
      "100%|██████████| 17/17 [00:00<00:00, 128.72it/s]\n"
     ]
    },
    {
     "name": "stdout",
     "output_type": "stream",
     "text": [
      "Training Loss: 2.308313 \tValidation Loss: 2.351393\n",
      "Train Accuracy: 0.118391 \tValid Accuracy: 0.100000\n",
      "voting_1_ ACC: 0.10493827160493827\n",
      "voting_3_ ACC: 0.12280701754385964\n",
      "voting_10_ ACC: 0.15\n",
      "voting_all_ ACC: 0.2\n",
      "voting_1_ MAP :  0.6849635139807397\n",
      "voting_3_ MAP :  0.5947148090005232\n",
      "voting_10_ MAP :  0.6143790849673203\n",
      "voting_all_ MAP :  0.5833333333333333\n",
      "voting_1_ F1 Score: 0.10493827160493827\n",
      "voting_3_ F1 Score: 0.12280701754385964\n",
      "voting_10_ F1 Score: 0.15\n",
      "voting_all_ F1 Score: 0.20000000000000004\n",
      "voting_1 top3:  0.3148148148148148\n",
      "voting_3 top3:  0.3684210526315789\n",
      "voting_10 top3:  0.4\n",
      "voting_all top3:  0.4\n",
      "epoch: 3\n"
     ]
    },
    {
     "name": "stderr",
     "output_type": "stream",
     "text": [
      "100%|██████████| 87/87 [00:01<00:00, 60.66it/s]\n",
      "100%|██████████| 17/17 [00:00<00:00, 125.88it/s]\n"
     ]
    },
    {
     "name": "stdout",
     "output_type": "stream",
     "text": [
      "Training Loss: 2.310885 \tValidation Loss: 2.296339\n",
      "Train Accuracy: 0.122989 \tValid Accuracy: 0.082353\n",
      "Validation loss decreased (2.318651 --> 2.296339).  Saving model ...\n",
      "voting_1_ ACC: 0.08641975308641975\n",
      "voting_3_ ACC: 0.03508771929824561\n",
      "voting_10_ ACC: 0.05\n",
      "voting_all_ ACC: 0.1\n",
      "voting_1_ MAP :  0.3139361468010611\n",
      "voting_3_ MAP :  0.19444444444444442\n",
      "voting_10_ MAP :  0.5\n",
      "voting_all_ MAP :  0.5\n",
      "voting_1_ F1 Score: 0.08641975308641975\n",
      "voting_3_ F1 Score: 0.03508771929824561\n",
      "voting_10_ F1 Score: 0.05000000000000001\n",
      "voting_all_ F1 Score: 0.10000000000000002\n",
      "voting_1 top3:  0.35802469135802467\n",
      "voting_3 top3:  0.40350877192982454\n",
      "voting_10 top3:  0.45\n",
      "voting_all top3:  0.4\n",
      "epoch: 4\n"
     ]
    },
    {
     "name": "stderr",
     "output_type": "stream",
     "text": [
      "100%|██████████| 87/87 [00:01<00:00, 58.96it/s]\n",
      "100%|██████████| 17/17 [00:00<00:00, 125.43it/s]\n"
     ]
    },
    {
     "name": "stdout",
     "output_type": "stream",
     "text": [
      "Training Loss: 2.248552 \tValidation Loss: 2.335532\n",
      "Train Accuracy: 0.187356 \tValid Accuracy: 0.129412\n",
      "voting_1_ ACC: 0.13580246913580246\n",
      "voting_3_ ACC: 0.12280701754385964\n",
      "voting_10_ ACC: 0.1\n",
      "voting_all_ ACC: 0.1\n",
      "voting_1_ MAP :  0.8712700417995238\n",
      "voting_3_ MAP :  0.982142857142857\n",
      "voting_10_ MAP :  1.0\n",
      "voting_all_ MAP :  1.0\n",
      "voting_1_ F1 Score: 0.13580246913580246\n",
      "voting_3_ F1 Score: 0.12280701754385964\n",
      "voting_10_ F1 Score: 0.10000000000000002\n",
      "voting_all_ F1 Score: 0.10000000000000002\n",
      "voting_1 top3:  0.3271604938271605\n",
      "voting_3 top3:  0.3157894736842105\n",
      "voting_10 top3:  0.3\n",
      "voting_all top3:  0.3\n",
      "epoch: 5\n"
     ]
    },
    {
     "name": "stderr",
     "output_type": "stream",
     "text": [
      "100%|██████████| 87/87 [00:01<00:00, 61.73it/s]\n",
      "100%|██████████| 17/17 [00:00<00:00, 137.23it/s]\n"
     ]
    },
    {
     "name": "stdout",
     "output_type": "stream",
     "text": [
      "Training Loss: 2.251117 \tValidation Loss: 2.274671\n",
      "Train Accuracy: 0.162069 \tValid Accuracy: 0.164706\n",
      "Validation loss decreased (2.296339 --> 2.274671).  Saving model ...\n",
      "voting_1_ ACC: 0.1728395061728395\n",
      "voting_3_ ACC: 0.15789473684210525\n",
      "voting_10_ ACC: 0.15\n",
      "voting_all_ ACC: 0.2\n",
      "voting_1_ MAP :  0.7712428204707125\n",
      "voting_3_ MAP :  0.6759598426265092\n",
      "voting_10_ MAP :  0.8055555555555556\n",
      "voting_all_ MAP :  0.8333333333333333\n",
      "voting_1_ F1 Score: 0.1728395061728395\n",
      "voting_3_ F1 Score: 0.15789473684210525\n",
      "voting_10_ F1 Score: 0.15\n",
      "voting_all_ F1 Score: 0.20000000000000004\n",
      "voting_1 top3:  0.3950617283950617\n",
      "voting_3 top3:  0.3684210526315789\n",
      "voting_10 top3:  0.4\n",
      "voting_all top3:  0.4\n",
      "epoch: 6\n"
     ]
    },
    {
     "name": "stderr",
     "output_type": "stream",
     "text": [
      "100%|██████████| 87/87 [00:01<00:00, 61.19it/s]\n",
      "100%|██████████| 17/17 [00:00<00:00, 147.52it/s]\n"
     ]
    },
    {
     "name": "stdout",
     "output_type": "stream",
     "text": [
      "Training Loss: 2.174148 \tValidation Loss: 2.238654\n",
      "Train Accuracy: 0.212644 \tValid Accuracy: 0.200000\n",
      "Validation loss decreased (2.274671 --> 2.238654).  Saving model ...\n",
      "voting_1_ ACC: 0.20987654320987653\n",
      "voting_3_ ACC: 0.21052631578947367\n",
      "voting_10_ ACC: 0.15\n",
      "voting_all_ ACC: 0.1\n",
      "voting_1_ MAP :  0.8681935876796816\n",
      "voting_3_ MAP :  0.9220480363862716\n",
      "voting_10_ MAP :  1.0\n",
      "voting_all_ MAP :  1.0\n",
      "voting_1_ F1 Score: 0.20987654320987653\n",
      "voting_3_ F1 Score: 0.21052631578947367\n",
      "voting_10_ F1 Score: 0.15\n",
      "voting_all_ F1 Score: 0.10000000000000002\n",
      "voting_1 top3:  0.3888888888888889\n",
      "voting_3 top3:  0.38596491228070173\n",
      "voting_10 top3:  0.45\n",
      "voting_all top3:  0.5\n",
      "epoch: 7\n"
     ]
    },
    {
     "name": "stderr",
     "output_type": "stream",
     "text": [
      "100%|██████████| 87/87 [00:01<00:00, 59.55it/s]\n",
      "100%|██████████| 17/17 [00:00<00:00, 134.75it/s]\n"
     ]
    },
    {
     "name": "stdout",
     "output_type": "stream",
     "text": [
      "Training Loss: 2.136245 \tValidation Loss: 2.210499\n",
      "Train Accuracy: 0.234483 \tValid Accuracy: 0.170588\n",
      "Validation loss decreased (2.238654 --> 2.210499).  Saving model ...\n",
      "voting_1_ ACC: 0.17901234567901234\n",
      "voting_3_ ACC: 0.15789473684210525\n",
      "voting_10_ ACC: 0.15\n",
      "voting_all_ ACC: 0.1\n",
      "voting_1_ MAP :  0.9107615230035142\n",
      "voting_3_ MAP :  0.8856128856128855\n",
      "voting_10_ MAP :  1.0\n",
      "voting_all_ MAP :  1.0\n",
      "voting_1_ F1 Score: 0.17901234567901234\n",
      "voting_3_ F1 Score: 0.15789473684210525\n",
      "voting_10_ F1 Score: 0.15\n",
      "voting_all_ F1 Score: 0.10000000000000002\n",
      "voting_1 top3:  0.43209876543209874\n",
      "voting_3 top3:  0.42105263157894735\n",
      "voting_10 top3:  0.4\n",
      "voting_all top3:  0.4\n",
      "epoch: 8\n"
     ]
    },
    {
     "name": "stderr",
     "output_type": "stream",
     "text": [
      "100%|██████████| 87/87 [00:01<00:00, 60.19it/s]\n",
      "100%|██████████| 17/17 [00:00<00:00, 139.76it/s]\n"
     ]
    },
    {
     "name": "stdout",
     "output_type": "stream",
     "text": [
      "Training Loss: 2.067527 \tValidation Loss: 2.120522\n",
      "Train Accuracy: 0.237931 \tValid Accuracy: 0.252941\n",
      "Validation loss decreased (2.210499 --> 2.120522).  Saving model ...\n",
      "voting_1_ ACC: 0.2654320987654321\n",
      "voting_3_ ACC: 0.2982456140350877\n",
      "voting_10_ ACC: 0.3\n",
      "voting_all_ ACC: 0.4\n",
      "voting_1_ MAP :  0.9676045879710922\n",
      "voting_3_ MAP :  0.832483249829421\n",
      "voting_10_ MAP :  0.7025735294117647\n",
      "voting_all_ MAP :  0.8041666666666667\n",
      "voting_1_ F1 Score: 0.2654320987654321\n",
      "voting_3_ F1 Score: 0.2982456140350877\n",
      "voting_10_ F1 Score: 0.3\n",
      "voting_all_ F1 Score: 0.4000000000000001\n",
      "voting_1 top3:  0.47530864197530864\n",
      "voting_3 top3:  0.5614035087719298\n",
      "voting_10 top3:  0.6\n",
      "voting_all top3:  0.7\n",
      "epoch: 9\n"
     ]
    },
    {
     "name": "stderr",
     "output_type": "stream",
     "text": [
      "100%|██████████| 87/87 [00:01<00:00, 60.64it/s]\n",
      "100%|██████████| 17/17 [00:00<00:00, 129.00it/s]\n"
     ]
    },
    {
     "name": "stdout",
     "output_type": "stream",
     "text": [
      "Training Loss: 1.899398 \tValidation Loss: 2.182810\n",
      "Train Accuracy: 0.320690 \tValid Accuracy: 0.241176\n",
      "voting_1_ ACC: 0.25308641975308643\n",
      "voting_3_ ACC: 0.24561403508771928\n",
      "voting_10_ ACC: 0.3\n",
      "voting_all_ ACC: 0.2\n",
      "voting_1_ MAP :  0.9641154706596554\n",
      "voting_3_ MAP :  0.8859995611147684\n",
      "voting_10_ MAP :  0.9484126984126984\n",
      "voting_all_ MAP :  1.0\n",
      "voting_1_ F1 Score: 0.25308641975308643\n",
      "voting_3_ F1 Score: 0.24561403508771928\n",
      "voting_10_ F1 Score: 0.3\n",
      "voting_all_ F1 Score: 0.20000000000000004\n",
      "voting_1 top3:  0.47530864197530864\n",
      "voting_3 top3:  0.47368421052631576\n",
      "voting_10 top3:  0.55\n",
      "voting_all top3:  0.5\n",
      "epoch: 10\n"
     ]
    },
    {
     "name": "stderr",
     "output_type": "stream",
     "text": [
      "100%|██████████| 87/87 [00:01<00:00, 61.56it/s]\n",
      "100%|██████████| 17/17 [00:00<00:00, 152.40it/s]\n"
     ]
    },
    {
     "name": "stdout",
     "output_type": "stream",
     "text": [
      "Training Loss: 1.884233 \tValidation Loss: 2.209138\n",
      "Train Accuracy: 0.329885 \tValid Accuracy: 0.217647\n",
      "voting_1_ ACC: 0.22839506172839505\n",
      "voting_3_ ACC: 0.22807017543859648\n",
      "voting_10_ ACC: 0.15\n",
      "voting_all_ ACC: 0.2\n",
      "voting_1_ MAP :  0.9870193364095803\n",
      "voting_3_ MAP :  0.9885883347421809\n",
      "voting_10_ MAP :  1.0\n",
      "voting_all_ MAP :  1.0\n",
      "voting_1_ F1 Score: 0.22839506172839505\n",
      "voting_3_ F1 Score: 0.22807017543859648\n",
      "voting_10_ F1 Score: 0.15\n",
      "voting_all_ F1 Score: 0.20000000000000004\n",
      "voting_1 top3:  0.5\n",
      "voting_3 top3:  0.5263157894736842\n",
      "voting_10 top3:  0.5\n",
      "voting_all top3:  0.5\n",
      "epoch: 11\n"
     ]
    },
    {
     "name": "stderr",
     "output_type": "stream",
     "text": [
      "100%|██████████| 87/87 [00:01<00:00, 61.50it/s]\n",
      "100%|██████████| 17/17 [00:00<00:00, 138.81it/s]\n"
     ]
    },
    {
     "name": "stdout",
     "output_type": "stream",
     "text": [
      "Training Loss: 1.932350 \tValidation Loss: 2.120810\n",
      "Train Accuracy: 0.308046 \tValid Accuracy: 0.264706\n",
      "voting_1_ ACC: 0.25308641975308643\n",
      "voting_3_ ACC: 0.24561403508771928\n",
      "voting_10_ ACC: 0.25\n",
      "voting_all_ ACC: 0.3\n",
      "voting_1_ MAP :  0.9275202274349442\n",
      "voting_3_ MAP :  0.8840511204481794\n",
      "voting_10_ MAP :  0.925\n",
      "voting_all_ MAP :  1.0\n",
      "voting_1_ F1 Score: 0.25308641975308643\n",
      "voting_3_ F1 Score: 0.24561403508771928\n",
      "voting_10_ F1 Score: 0.25\n",
      "voting_all_ F1 Score: 0.3\n",
      "voting_1 top3:  0.48148148148148145\n",
      "voting_3 top3:  0.49122807017543857\n",
      "voting_10 top3:  0.5\n",
      "voting_all top3:  0.5\n",
      "epoch: 12\n"
     ]
    },
    {
     "name": "stderr",
     "output_type": "stream",
     "text": [
      "100%|██████████| 87/87 [00:01<00:00, 61.31it/s]\n",
      "100%|██████████| 17/17 [00:00<00:00, 156.31it/s]\n"
     ]
    },
    {
     "name": "stdout",
     "output_type": "stream",
     "text": [
      "Training Loss: 1.904242 \tValidation Loss: 2.252884\n",
      "Train Accuracy: 0.305747 \tValid Accuracy: 0.194118\n",
      "voting_1_ ACC: 0.2037037037037037\n",
      "voting_3_ ACC: 0.19298245614035087\n",
      "voting_10_ ACC: 0.2\n",
      "voting_all_ ACC: 0.1\n",
      "voting_1_ MAP :  0.9521190139281914\n",
      "voting_3_ MAP :  0.870959595959596\n",
      "voting_10_ MAP :  0.8166666666666667\n",
      "voting_all_ MAP :  1.0\n",
      "voting_1_ F1 Score: 0.2037037037037037\n",
      "voting_3_ F1 Score: 0.19298245614035087\n",
      "voting_10_ F1 Score: 0.20000000000000004\n",
      "voting_all_ F1 Score: 0.10000000000000002\n",
      "voting_1 top3:  0.43209876543209874\n",
      "voting_3 top3:  0.49122807017543857\n",
      "voting_10 top3:  0.45\n",
      "voting_all top3:  0.5\n",
      "epoch: 13\n"
     ]
    },
    {
     "name": "stderr",
     "output_type": "stream",
     "text": [
      "100%|██████████| 87/87 [00:01<00:00, 60.38it/s]\n",
      "100%|██████████| 17/17 [00:00<00:00, 124.44it/s]\n"
     ]
    },
    {
     "name": "stdout",
     "output_type": "stream",
     "text": [
      "Training Loss: 1.910910 \tValidation Loss: 2.042212\n",
      "Train Accuracy: 0.311494 \tValid Accuracy: 0.217647\n",
      "Validation loss decreased (2.120522 --> 2.042212).  Saving model ...\n",
      "voting_1_ ACC: 0.22839506172839505\n",
      "voting_3_ ACC: 0.24561403508771928\n",
      "voting_10_ ACC: 0.25\n",
      "voting_all_ ACC: 0.3\n",
      "voting_1_ MAP :  0.9791080349878825\n",
      "voting_3_ MAP :  0.9602323115481011\n",
      "voting_10_ MAP :  0.9666666666666666\n",
      "voting_all_ MAP :  0.9166666666666665\n",
      "voting_1_ F1 Score: 0.22839506172839505\n",
      "voting_3_ F1 Score: 0.24561403508771928\n",
      "voting_10_ F1 Score: 0.25\n",
      "voting_all_ F1 Score: 0.3\n",
      "voting_1 top3:  0.5370370370370371\n",
      "voting_3 top3:  0.5964912280701754\n",
      "voting_10 top3:  0.55\n",
      "voting_all top3:  0.6\n",
      "epoch: 14\n"
     ]
    },
    {
     "name": "stderr",
     "output_type": "stream",
     "text": [
      "100%|██████████| 87/87 [00:01<00:00, 62.11it/s]\n",
      "100%|██████████| 17/17 [00:00<00:00, 133.10it/s]\n"
     ]
    },
    {
     "name": "stdout",
     "output_type": "stream",
     "text": [
      "Training Loss: 1.790820 \tValidation Loss: 2.161495\n",
      "Train Accuracy: 0.362069 \tValid Accuracy: 0.241176\n",
      "voting_1_ ACC: 0.22839506172839505\n",
      "voting_3_ ACC: 0.22807017543859648\n",
      "voting_10_ ACC: 0.25\n",
      "voting_all_ ACC: 0.3\n",
      "voting_1_ MAP :  0.9373407042358846\n",
      "voting_3_ MAP :  0.9412087912087912\n",
      "voting_10_ MAP :  0.8761904761904762\n",
      "voting_all_ MAP :  0.8666666666666667\n",
      "voting_1_ F1 Score: 0.22839506172839505\n",
      "voting_3_ F1 Score: 0.22807017543859648\n",
      "voting_10_ F1 Score: 0.25\n",
      "voting_all_ F1 Score: 0.3\n",
      "voting_1 top3:  0.5185185185185185\n",
      "voting_3 top3:  0.5263157894736842\n",
      "voting_10 top3:  0.6\n",
      "voting_all top3:  0.6\n",
      "------------------------------------------------------------------------\n",
      "Training for fold 3/6 ...\n",
      "epoch: 0\n"
     ]
    },
    {
     "name": "stderr",
     "output_type": "stream",
     "text": [
      "100%|██████████| 86/86 [00:01<00:00, 62.31it/s]\n",
      "100%|██████████| 17/17 [00:00<00:00, 140.92it/s]\n",
      "C:\\Users\\user\\anaconda3\\envs\\1019\\Lib\\site-packages\\sklearn\\metrics\\_ranking.py:980: UserWarning: No positive class found in y_true, recall is set to one for all thresholds.\n",
      "  warnings.warn(\n"
     ]
    },
    {
     "name": "stdout",
     "output_type": "stream",
     "text": [
      "Training Loss: 2.530013 \tValidation Loss: 2.309401\n",
      "Train Accuracy: 0.094186 \tValid Accuracy: 0.082353\n",
      "Validation loss decreased (inf --> 2.309401).  Saving model ...\n",
      "voting_1_ ACC: 0.08235294117647059\n",
      "voting_3_ ACC: 0.1016949152542373\n",
      "voting_10_ ACC: 0.09523809523809523\n",
      "voting_all_ ACC: 0.0\n",
      "voting_1_ MAP :  0.8455894811731048\n",
      "voting_3_ MAP :  0.8505747126436781\n",
      "voting_10_ MAP :  0.24285714285714285\n",
      "voting_all_ MAP :  -0.0\n",
      "voting_1_ F1 Score: 0.08235294117647059\n",
      "voting_3_ F1 Score: 0.10169491525423731\n",
      "voting_10_ F1 Score: 0.09523809523809523\n",
      "voting_all_ F1 Score: 0\n",
      "voting_1 top3:  0.35294117647058826\n",
      "voting_3 top3:  0.3559322033898305\n",
      "voting_10 top3:  0.3333333333333333\n",
      "voting_all top3:  0.3\n",
      "epoch: 1\n"
     ]
    },
    {
     "name": "stderr",
     "output_type": "stream",
     "text": [
      "100%|██████████| 86/86 [00:01<00:00, 61.43it/s]\n",
      "100%|██████████| 17/17 [00:00<00:00, 129.92it/s]\n"
     ]
    },
    {
     "name": "stdout",
     "output_type": "stream",
     "text": [
      "Training Loss: 2.323166 \tValidation Loss: 2.308949\n",
      "Train Accuracy: 0.115116 \tValid Accuracy: 0.105882\n",
      "Validation loss decreased (2.309401 --> 2.308949).  Saving model ...\n",
      "voting_1_ ACC: 0.10588235294117647\n",
      "voting_3_ ACC: 0.1016949152542373\n",
      "voting_10_ ACC: 0.09523809523809523\n",
      "voting_all_ ACC: 0.1\n",
      "voting_1_ MAP :  1.0\n",
      "voting_3_ MAP :  1.0\n",
      "voting_10_ MAP :  0.75\n",
      "voting_all_ MAP :  1.0\n",
      "voting_1_ F1 Score: 0.10588235294117647\n",
      "voting_3_ F1 Score: 0.10169491525423731\n",
      "voting_10_ F1 Score: 0.09523809523809523\n",
      "voting_all_ F1 Score: 0.10000000000000002\n",
      "voting_1 top3:  0.3411764705882353\n",
      "voting_3 top3:  0.3220338983050847\n",
      "voting_10 top3:  0.2857142857142857\n",
      "voting_all top3:  0.3\n",
      "epoch: 2\n"
     ]
    },
    {
     "name": "stderr",
     "output_type": "stream",
     "text": [
      "100%|██████████| 86/86 [00:01<00:00, 60.08it/s]\n",
      "100%|██████████| 17/17 [00:00<00:00, 133.49it/s]\n"
     ]
    },
    {
     "name": "stdout",
     "output_type": "stream",
     "text": [
      "Training Loss: 2.311969 \tValidation Loss: 2.303642\n",
      "Train Accuracy: 0.099419 \tValid Accuracy: 0.141176\n",
      "Validation loss decreased (2.308949 --> 2.303642).  Saving model ...\n",
      "voting_1_ ACC: 0.1411764705882353\n",
      "voting_3_ ACC: 0.1694915254237288\n",
      "voting_10_ ACC: 0.14285714285714285\n",
      "voting_all_ ACC: 0.1\n",
      "voting_1_ MAP :  0.689930538795483\n",
      "voting_3_ MAP :  0.8327913752913753\n",
      "voting_10_ MAP :  0.7222222222222222\n",
      "voting_all_ MAP :  1.0\n",
      "voting_1_ F1 Score: 0.1411764705882353\n",
      "voting_3_ F1 Score: 0.1694915254237288\n",
      "voting_10_ F1 Score: 0.14285714285714285\n",
      "voting_all_ F1 Score: 0.10000000000000002\n",
      "voting_1 top3:  0.37058823529411766\n",
      "voting_3 top3:  0.3728813559322034\n",
      "voting_10 top3:  0.47619047619047616\n",
      "voting_all top3:  0.4\n",
      "epoch: 3\n"
     ]
    },
    {
     "name": "stderr",
     "output_type": "stream",
     "text": [
      "100%|██████████| 86/86 [00:01<00:00, 62.38it/s]\n",
      "100%|██████████| 17/17 [00:00<00:00, 142.90it/s]\n"
     ]
    },
    {
     "name": "stdout",
     "output_type": "stream",
     "text": [
      "Training Loss: 2.254479 \tValidation Loss: 2.399403\n",
      "Train Accuracy: 0.153488 \tValid Accuracy: 0.129412\n",
      "voting_1_ ACC: 0.12941176470588237\n",
      "voting_3_ ACC: 0.13559322033898305\n",
      "voting_10_ ACC: 0.09523809523809523\n",
      "voting_all_ ACC: 0.1\n",
      "voting_1_ MAP :  0.9751928471248246\n",
      "voting_3_ MAP :  0.9053030303030303\n",
      "voting_10_ MAP :  1.0\n",
      "voting_all_ MAP :  1.0\n",
      "voting_1_ F1 Score: 0.12941176470588237\n",
      "voting_3_ F1 Score: 0.13559322033898305\n",
      "voting_10_ F1 Score: 0.09523809523809523\n",
      "voting_all_ F1 Score: 0.10000000000000002\n",
      "voting_1 top3:  0.3176470588235294\n",
      "voting_3 top3:  0.2711864406779661\n",
      "voting_10 top3:  0.2857142857142857\n",
      "voting_all top3:  0.2\n",
      "epoch: 4\n"
     ]
    },
    {
     "name": "stderr",
     "output_type": "stream",
     "text": [
      "100%|██████████| 86/86 [00:01<00:00, 61.43it/s]\n",
      "100%|██████████| 17/17 [00:00<00:00, 114.89it/s]\n"
     ]
    },
    {
     "name": "stdout",
     "output_type": "stream",
     "text": [
      "Training Loss: 2.267071 \tValidation Loss: 2.337294\n",
      "Train Accuracy: 0.144186 \tValid Accuracy: 0.123529\n",
      "voting_1_ ACC: 0.12352941176470589\n",
      "voting_3_ ACC: 0.15254237288135594\n",
      "voting_10_ ACC: 0.09523809523809523\n",
      "voting_all_ ACC: 0.2\n",
      "voting_1_ MAP :  0.6369657265285344\n",
      "voting_3_ MAP :  0.8763057929724598\n",
      "voting_10_ MAP :  1.0\n",
      "voting_all_ MAP :  1.0\n",
      "voting_1_ F1 Score: 0.12352941176470589\n",
      "voting_3_ F1 Score: 0.15254237288135594\n",
      "voting_10_ F1 Score: 0.09523809523809523\n",
      "voting_all_ F1 Score: 0.20000000000000004\n",
      "voting_1 top3:  0.34705882352941175\n",
      "voting_3 top3:  0.288135593220339\n",
      "voting_10 top3:  0.38095238095238093\n",
      "voting_all top3:  0.4\n",
      "epoch: 5\n"
     ]
    },
    {
     "name": "stderr",
     "output_type": "stream",
     "text": [
      "100%|██████████| 86/86 [00:01<00:00, 60.55it/s]\n",
      "100%|██████████| 17/17 [00:00<00:00, 135.67it/s]\n"
     ]
    },
    {
     "name": "stdout",
     "output_type": "stream",
     "text": [
      "Training Loss: 2.253416 \tValidation Loss: 2.279021\n",
      "Train Accuracy: 0.136628 \tValid Accuracy: 0.158824\n",
      "Validation loss decreased (2.303642 --> 2.279021).  Saving model ...\n",
      "voting_1_ ACC: 0.1588235294117647\n",
      "voting_3_ ACC: 0.1694915254237288\n",
      "voting_10_ ACC: 0.19047619047619047\n",
      "voting_all_ ACC: 0.2\n",
      "voting_1_ MAP :  0.7980225150223594\n",
      "voting_3_ MAP :  0.7231135041429159\n",
      "voting_10_ MAP :  0.7125\n",
      "voting_all_ MAP :  1.0\n",
      "voting_1_ F1 Score: 0.1588235294117647\n",
      "voting_3_ F1 Score: 0.1694915254237288\n",
      "voting_10_ F1 Score: 0.19047619047619047\n",
      "voting_all_ F1 Score: 0.20000000000000004\n",
      "voting_1 top3:  0.4\n",
      "voting_3 top3:  0.3898305084745763\n",
      "voting_10 top3:  0.3333333333333333\n",
      "voting_all top3:  0.3\n",
      "epoch: 6\n"
     ]
    },
    {
     "name": "stderr",
     "output_type": "stream",
     "text": [
      "100%|██████████| 86/86 [00:01<00:00, 61.68it/s]\n",
      "100%|██████████| 17/17 [00:00<00:00, 136.11it/s]\n"
     ]
    },
    {
     "name": "stdout",
     "output_type": "stream",
     "text": [
      "Training Loss: 2.221901 \tValidation Loss: 2.310138\n",
      "Train Accuracy: 0.166860 \tValid Accuracy: 0.147059\n",
      "voting_1_ ACC: 0.14705882352941177\n",
      "voting_3_ ACC: 0.2033898305084746\n",
      "voting_10_ ACC: 0.23809523809523808\n",
      "voting_all_ ACC: 0.3\n",
      "voting_1_ MAP :  0.8672129270287904\n",
      "voting_3_ MAP :  0.8546839190221543\n",
      "voting_10_ MAP :  0.7688235294117647\n",
      "voting_all_ MAP :  1.0\n",
      "voting_1_ F1 Score: 0.14705882352941177\n",
      "voting_3_ F1 Score: 0.20338983050847462\n",
      "voting_10_ F1 Score: 0.23809523809523808\n",
      "voting_all_ F1 Score: 0.3\n",
      "voting_1 top3:  0.3411764705882353\n",
      "voting_3 top3:  0.4067796610169492\n",
      "voting_10 top3:  0.38095238095238093\n",
      "voting_all top3:  0.5\n",
      "epoch: 7\n"
     ]
    },
    {
     "name": "stderr",
     "output_type": "stream",
     "text": [
      "100%|██████████| 86/86 [00:01<00:00, 61.72it/s]\n",
      "100%|██████████| 17/17 [00:00<00:00, 139.71it/s]\n"
     ]
    },
    {
     "name": "stdout",
     "output_type": "stream",
     "text": [
      "Training Loss: 2.224658 \tValidation Loss: 2.356505\n",
      "Train Accuracy: 0.183140 \tValid Accuracy: 0.123529\n",
      "voting_1_ ACC: 0.12352941176470589\n",
      "voting_3_ ACC: 0.1864406779661017\n",
      "voting_10_ ACC: 0.09523809523809523\n",
      "voting_all_ ACC: 0.1\n",
      "voting_1_ MAP :  0.721787186547669\n",
      "voting_3_ MAP :  0.8078105715811399\n",
      "voting_10_ MAP :  0.5714285714285714\n",
      "voting_all_ MAP :  1.0\n",
      "voting_1_ F1 Score: 0.12352941176470589\n",
      "voting_3_ F1 Score: 0.1864406779661017\n",
      "voting_10_ F1 Score: 0.09523809523809523\n",
      "voting_all_ F1 Score: 0.10000000000000002\n",
      "voting_1 top3:  0.32941176470588235\n",
      "voting_3 top3:  0.4576271186440678\n",
      "voting_10 top3:  0.42857142857142855\n",
      "voting_all top3:  0.3\n",
      "epoch: 8\n"
     ]
    },
    {
     "name": "stderr",
     "output_type": "stream",
     "text": [
      "100%|██████████| 86/86 [00:01<00:00, 61.00it/s]\n",
      "100%|██████████| 17/17 [00:00<00:00, 142.01it/s]\n"
     ]
    },
    {
     "name": "stdout",
     "output_type": "stream",
     "text": [
      "Training Loss: 2.220061 \tValidation Loss: 2.238205\n",
      "Train Accuracy: 0.180814 \tValid Accuracy: 0.158824\n",
      "Validation loss decreased (2.279021 --> 2.238205).  Saving model ...\n",
      "voting_1_ ACC: 0.1588235294117647\n",
      "voting_3_ ACC: 0.1864406779661017\n",
      "voting_10_ ACC: 0.19047619047619047\n",
      "voting_all_ ACC: 0.1\n",
      "voting_1_ MAP :  0.5694060985965861\n",
      "voting_3_ MAP :  0.6607055748766979\n",
      "voting_10_ MAP :  0.48412698412698413\n",
      "voting_all_ MAP :  0.3333333333333333\n",
      "voting_1_ F1 Score: 0.1588235294117647\n",
      "voting_3_ F1 Score: 0.1864406779661017\n",
      "voting_10_ F1 Score: 0.19047619047619047\n",
      "voting_all_ F1 Score: 0.10000000000000002\n",
      "voting_1 top3:  0.4294117647058823\n",
      "voting_3 top3:  0.4406779661016949\n",
      "voting_10 top3:  0.47619047619047616\n",
      "voting_all top3:  0.3\n",
      "epoch: 9\n"
     ]
    },
    {
     "name": "stderr",
     "output_type": "stream",
     "text": [
      "100%|██████████| 86/86 [00:01<00:00, 61.54it/s]\n",
      "100%|██████████| 17/17 [00:00<00:00, 136.97it/s]\n"
     ]
    },
    {
     "name": "stdout",
     "output_type": "stream",
     "text": [
      "Training Loss: 2.170225 \tValidation Loss: 2.351286\n",
      "Train Accuracy: 0.207558 \tValid Accuracy: 0.129412\n",
      "voting_1_ ACC: 0.12941176470588237\n",
      "voting_3_ ACC: 0.11864406779661017\n",
      "voting_10_ ACC: 0.09523809523809523\n",
      "voting_all_ ACC: 0.1\n",
      "voting_1_ MAP :  0.5748761239882172\n",
      "voting_3_ MAP :  0.5993524332810047\n",
      "voting_10_ MAP :  0.3125\n",
      "voting_all_ MAP :  0.5\n",
      "voting_1_ F1 Score: 0.12941176470588237\n",
      "voting_3_ F1 Score: 0.11864406779661017\n",
      "voting_10_ F1 Score: 0.09523809523809523\n",
      "voting_all_ F1 Score: 0.10000000000000002\n",
      "voting_1 top3:  0.38235294117647056\n",
      "voting_3 top3:  0.3898305084745763\n",
      "voting_10 top3:  0.38095238095238093\n",
      "voting_all top3:  0.3\n",
      "epoch: 10\n"
     ]
    },
    {
     "name": "stderr",
     "output_type": "stream",
     "text": [
      "100%|██████████| 86/86 [00:01<00:00, 61.04it/s]\n",
      "100%|██████████| 17/17 [00:00<00:00, 135.41it/s]\n"
     ]
    },
    {
     "name": "stdout",
     "output_type": "stream",
     "text": [
      "Training Loss: 2.173785 \tValidation Loss: 2.293790\n",
      "Train Accuracy: 0.192442 \tValid Accuracy: 0.164706\n",
      "voting_1_ ACC: 0.16470588235294117\n",
      "voting_3_ ACC: 0.1694915254237288\n",
      "voting_10_ ACC: 0.19047619047619047\n",
      "voting_all_ ACC: 0.2\n",
      "voting_1_ MAP :  0.927401379079571\n",
      "voting_3_ MAP :  0.9430122655122654\n",
      "voting_10_ MAP :  0.8166666666666667\n",
      "voting_all_ MAP :  1.0\n",
      "voting_1_ F1 Score: 0.16470588235294117\n",
      "voting_3_ F1 Score: 0.1694915254237288\n",
      "voting_10_ F1 Score: 0.19047619047619047\n",
      "voting_all_ F1 Score: 0.20000000000000004\n",
      "voting_1 top3:  0.3352941176470588\n",
      "voting_3 top3:  0.3389830508474576\n",
      "voting_10 top3:  0.2857142857142857\n",
      "voting_all top3:  0.3\n",
      "epoch: 11\n"
     ]
    },
    {
     "name": "stderr",
     "output_type": "stream",
     "text": [
      "100%|██████████| 86/86 [00:01<00:00, 61.42it/s]\n",
      "100%|██████████| 17/17 [00:00<00:00, 139.08it/s]\n"
     ]
    },
    {
     "name": "stdout",
     "output_type": "stream",
     "text": [
      "Training Loss: 2.165182 \tValidation Loss: 2.279503\n",
      "Train Accuracy: 0.212209 \tValid Accuracy: 0.170588\n",
      "voting_1_ ACC: 0.17058823529411765\n",
      "voting_3_ ACC: 0.23728813559322035\n",
      "voting_10_ ACC: 0.19047619047619047\n",
      "voting_all_ ACC: 0.2\n",
      "voting_1_ MAP :  0.8980224361511006\n",
      "voting_3_ MAP :  0.8340729604276401\n",
      "voting_10_ MAP :  0.7986111111111112\n",
      "voting_all_ MAP :  1.0\n",
      "voting_1_ F1 Score: 0.17058823529411765\n",
      "voting_3_ F1 Score: 0.23728813559322035\n",
      "voting_10_ F1 Score: 0.19047619047619047\n",
      "voting_all_ F1 Score: 0.20000000000000004\n",
      "voting_1 top3:  0.38235294117647056\n",
      "voting_3 top3:  0.423728813559322\n",
      "voting_10 top3:  0.47619047619047616\n",
      "voting_all top3:  0.4\n",
      "epoch: 12\n"
     ]
    },
    {
     "name": "stderr",
     "output_type": "stream",
     "text": [
      "100%|██████████| 86/86 [00:01<00:00, 62.22it/s]\n",
      "100%|██████████| 17/17 [00:00<00:00, 147.45it/s]\n"
     ]
    },
    {
     "name": "stdout",
     "output_type": "stream",
     "text": [
      "Training Loss: 2.156005 \tValidation Loss: 2.340929\n",
      "Train Accuracy: 0.207558 \tValid Accuracy: 0.129412\n",
      "voting_1_ ACC: 0.12941176470588237\n",
      "voting_3_ ACC: 0.22033898305084745\n",
      "voting_10_ ACC: 0.19047619047619047\n",
      "voting_all_ ACC: 0.3\n",
      "voting_1_ MAP :  0.8067485963096052\n",
      "voting_3_ MAP :  0.9171339344416267\n",
      "voting_10_ MAP :  0.95\n",
      "voting_all_ MAP :  1.0\n",
      "voting_1_ F1 Score: 0.12941176470588237\n",
      "voting_3_ F1 Score: 0.22033898305084745\n",
      "voting_10_ F1 Score: 0.19047619047619047\n",
      "voting_all_ F1 Score: 0.3\n",
      "voting_1 top3:  0.4117647058823529\n",
      "voting_3 top3:  0.4576271186440678\n",
      "voting_10 top3:  0.38095238095238093\n",
      "voting_all top3:  0.5\n",
      "epoch: 13\n"
     ]
    },
    {
     "name": "stderr",
     "output_type": "stream",
     "text": [
      "100%|██████████| 86/86 [00:01<00:00, 62.30it/s]\n",
      "100%|██████████| 17/17 [00:00<00:00, 126.76it/s]\n"
     ]
    },
    {
     "name": "stdout",
     "output_type": "stream",
     "text": [
      "Training Loss: 2.167870 \tValidation Loss: 2.247753\n",
      "Train Accuracy: 0.205233 \tValid Accuracy: 0.164706\n",
      "voting_1_ ACC: 0.16470588235294117\n",
      "voting_3_ ACC: 0.1864406779661017\n",
      "voting_10_ ACC: 0.19047619047619047\n",
      "voting_all_ ACC: 0.2\n",
      "voting_1_ MAP :  0.8218486582935322\n",
      "voting_3_ MAP :  0.8590909090909091\n",
      "voting_10_ MAP :  0.8409090909090909\n",
      "voting_all_ MAP :  1.0\n",
      "voting_1_ F1 Score: 0.16470588235294117\n",
      "voting_3_ F1 Score: 0.1864406779661017\n",
      "voting_10_ F1 Score: 0.19047619047619047\n",
      "voting_all_ F1 Score: 0.20000000000000004\n",
      "voting_1 top3:  0.4176470588235294\n",
      "voting_3 top3:  0.4745762711864407\n",
      "voting_10 top3:  0.38095238095238093\n",
      "voting_all top3:  0.4\n",
      "epoch: 14\n"
     ]
    },
    {
     "name": "stderr",
     "output_type": "stream",
     "text": [
      "100%|██████████| 86/86 [00:01<00:00, 60.41it/s]\n",
      "100%|██████████| 17/17 [00:00<00:00, 133.34it/s]\n"
     ]
    },
    {
     "name": "stdout",
     "output_type": "stream",
     "text": [
      "Training Loss: 2.136793 \tValidation Loss: 2.352175\n",
      "Train Accuracy: 0.238372 \tValid Accuracy: 0.188235\n",
      "voting_1_ ACC: 0.18823529411764706\n",
      "voting_3_ ACC: 0.13559322033898305\n",
      "voting_10_ ACC: 0.23809523809523808\n",
      "voting_all_ ACC: 0.2\n",
      "voting_1_ MAP :  0.9322253081541703\n",
      "voting_3_ MAP :  0.9704861111111112\n",
      "voting_10_ MAP :  0.8666666666666667\n",
      "voting_all_ MAP :  1.0\n",
      "voting_1_ F1 Score: 0.18823529411764703\n",
      "voting_3_ F1 Score: 0.13559322033898305\n",
      "voting_10_ F1 Score: 0.23809523809523808\n",
      "voting_all_ F1 Score: 0.20000000000000004\n",
      "voting_1 top3:  0.36470588235294116\n",
      "voting_3 top3:  0.4067796610169492\n",
      "voting_10 top3:  0.42857142857142855\n",
      "voting_all top3:  0.4\n",
      "------------------------------------------------------------------------\n",
      "Training for fold 4/6 ...\n",
      "epoch: 0\n"
     ]
    },
    {
     "name": "stderr",
     "output_type": "stream",
     "text": [
      "100%|██████████| 85/85 [00:01<00:00, 60.80it/s]\n",
      "100%|██████████| 18/18 [00:00<00:00, 135.22it/s]\n"
     ]
    },
    {
     "name": "stdout",
     "output_type": "stream",
     "text": [
      "Training Loss: 2.518034 \tValidation Loss: 2.344465\n",
      "Train Accuracy: 0.100000 \tValid Accuracy: 0.100000\n",
      "Validation loss decreased (inf --> 2.344465).  Saving model ...\n",
      "voting_1_ ACC: 0.1005586592178771\n",
      "voting_3_ ACC: 0.109375\n",
      "voting_10_ ACC: 0.09090909090909091\n",
      "voting_all_ ACC: 0.1\n",
      "voting_1_ MAP :  0.8070748322941306\n",
      "voting_3_ MAP :  0.7857142857142857\n",
      "voting_10_ MAP :  0.8333333333333333\n",
      "voting_all_ MAP :  1.0\n",
      "voting_1_ F1 Score: 0.1005586592178771\n",
      "voting_3_ F1 Score: 0.109375\n",
      "voting_10_ F1 Score: 0.09090909090909091\n",
      "voting_all_ F1 Score: 0.10000000000000002\n",
      "voting_1 top3:  0.2849162011173184\n",
      "voting_3 top3:  0.296875\n",
      "voting_10 top3:  0.2727272727272727\n",
      "voting_all top3:  0.3\n",
      "epoch: 1\n"
     ]
    },
    {
     "name": "stderr",
     "output_type": "stream",
     "text": [
      "100%|██████████| 85/85 [00:01<00:00, 59.01it/s]\n",
      "100%|██████████| 18/18 [00:00<00:00, 143.94it/s]\n"
     ]
    },
    {
     "name": "stdout",
     "output_type": "stream",
     "text": [
      "Training Loss: 2.334989 \tValidation Loss: 2.305454\n",
      "Train Accuracy: 0.095294 \tValid Accuracy: 0.127778\n",
      "Validation loss decreased (2.344465 --> 2.305454).  Saving model ...\n",
      "voting_1_ ACC: 0.12849162011173185\n",
      "voting_3_ ACC: 0.15625\n",
      "voting_10_ ACC: 0.13636363636363635\n",
      "voting_all_ ACC: 0.1\n",
      "voting_1_ MAP :  0.7613653631005557\n",
      "voting_3_ MAP :  0.7685737628384688\n",
      "voting_10_ MAP :  0.7222222222222222\n",
      "voting_all_ MAP :  1.0\n",
      "voting_1_ F1 Score: 0.12849162011173185\n",
      "voting_3_ F1 Score: 0.15625\n",
      "voting_10_ F1 Score: 0.13636363636363635\n",
      "voting_all_ F1 Score: 0.10000000000000002\n",
      "voting_1 top3:  0.33519553072625696\n",
      "voting_3 top3:  0.3125\n",
      "voting_10 top3:  0.3181818181818182\n",
      "voting_all top3:  0.3\n",
      "epoch: 2\n"
     ]
    },
    {
     "name": "stderr",
     "output_type": "stream",
     "text": [
      "100%|██████████| 85/85 [00:01<00:00, 62.09it/s]\n",
      "100%|██████████| 18/18 [00:00<00:00, 137.56it/s]\n"
     ]
    },
    {
     "name": "stdout",
     "output_type": "stream",
     "text": [
      "Training Loss: 2.260930 \tValidation Loss: 2.287450\n",
      "Train Accuracy: 0.147059 \tValid Accuracy: 0.150000\n",
      "Validation loss decreased (2.305454 --> 2.287450).  Saving model ...\n",
      "voting_1_ ACC: 0.15083798882681565\n",
      "voting_3_ ACC: 0.1875\n",
      "voting_10_ ACC: 0.18181818181818182\n",
      "voting_all_ ACC: 0.2\n",
      "voting_1_ MAP :  0.8706134556232548\n",
      "voting_3_ MAP :  0.7567543567543568\n",
      "voting_10_ MAP :  0.8541666666666666\n",
      "voting_all_ MAP :  0.8333333333333333\n",
      "voting_1_ F1 Score: 0.15083798882681565\n",
      "voting_3_ F1 Score: 0.1875\n",
      "voting_10_ F1 Score: 0.18181818181818182\n",
      "voting_all_ F1 Score: 0.20000000000000004\n",
      "voting_1 top3:  0.3687150837988827\n",
      "voting_3 top3:  0.453125\n",
      "voting_10 top3:  0.4090909090909091\n",
      "voting_all top3:  0.5\n",
      "epoch: 3\n"
     ]
    },
    {
     "name": "stderr",
     "output_type": "stream",
     "text": [
      "100%|██████████| 85/85 [00:01<00:00, 61.76it/s]\n",
      "100%|██████████| 18/18 [00:00<00:00, 118.52it/s]\n"
     ]
    },
    {
     "name": "stdout",
     "output_type": "stream",
     "text": [
      "Training Loss: 2.200559 \tValidation Loss: 2.354306\n",
      "Train Accuracy: 0.175294 \tValid Accuracy: 0.145679\n",
      "voting_1_ ACC: 0.1452513966480447\n",
      "voting_3_ ACC: 0.109375\n",
      "voting_10_ ACC: 0.13636363636363635\n",
      "voting_all_ ACC: 0.1\n",
      "voting_1_ MAP :  0.7176944612924004\n",
      "voting_3_ MAP :  0.7739348370927318\n",
      "voting_10_ MAP :  0.7916666666666666\n",
      "voting_all_ MAP :  1.0\n",
      "voting_1_ F1 Score: 0.1452513966480447\n",
      "voting_3_ F1 Score: 0.109375\n",
      "voting_10_ F1 Score: 0.13636363636363635\n",
      "voting_all_ F1 Score: 0.10000000000000002\n",
      "voting_1 top3:  0.36312849162011174\n",
      "voting_3 top3:  0.328125\n",
      "voting_10 top3:  0.2727272727272727\n",
      "voting_all top3:  0.3\n",
      "epoch: 4\n"
     ]
    },
    {
     "name": "stderr",
     "output_type": "stream",
     "text": [
      "100%|██████████| 85/85 [00:01<00:00, 60.83it/s]\n",
      "100%|██████████| 18/18 [00:00<00:00, 136.11it/s]\n"
     ]
    },
    {
     "name": "stdout",
     "output_type": "stream",
     "text": [
      "Training Loss: 2.166199 \tValidation Loss: 2.341893\n",
      "Train Accuracy: 0.191765 \tValid Accuracy: 0.072222\n",
      "voting_1_ ACC: 0.07262569832402235\n",
      "voting_3_ ACC: 0.09375\n",
      "voting_10_ ACC: 0.09090909090909091\n",
      "voting_all_ ACC: 0.1\n",
      "voting_1_ MAP :  0.6911945604253296\n",
      "voting_3_ MAP :  0.4764076070679844\n",
      "voting_10_ MAP :  0.5\n",
      "voting_all_ MAP :  0.5\n",
      "voting_1_ F1 Score: 0.07262569832402235\n",
      "voting_3_ F1 Score: 0.09375\n",
      "voting_10_ F1 Score: 0.09090909090909091\n",
      "voting_all_ F1 Score: 0.10000000000000002\n",
      "voting_1 top3:  0.29608938547486036\n",
      "voting_3 top3:  0.265625\n",
      "voting_10 top3:  0.3181818181818182\n",
      "voting_all top3:  0.4\n",
      "epoch: 5\n"
     ]
    },
    {
     "name": "stderr",
     "output_type": "stream",
     "text": [
      "100%|██████████| 85/85 [00:01<00:00, 61.19it/s]\n",
      "100%|██████████| 18/18 [00:00<00:00, 136.00it/s]\n"
     ]
    },
    {
     "name": "stdout",
     "output_type": "stream",
     "text": [
      "Training Loss: 2.190358 \tValidation Loss: 2.295130\n",
      "Train Accuracy: 0.203529 \tValid Accuracy: 0.166667\n",
      "voting_1_ ACC: 0.16759776536312848\n",
      "voting_3_ ACC: 0.203125\n",
      "voting_10_ ACC: 0.18181818181818182\n",
      "voting_all_ ACC: 0.2\n",
      "voting_1_ MAP :  0.7742548924128382\n",
      "voting_3_ MAP :  0.7561320315265796\n",
      "voting_10_ MAP :  0.7708333333333333\n",
      "voting_all_ MAP :  0.8333333333333333\n",
      "voting_1_ F1 Score: 0.16759776536312848\n",
      "voting_3_ F1 Score: 0.203125\n",
      "voting_10_ F1 Score: 0.18181818181818182\n",
      "voting_all_ F1 Score: 0.20000000000000004\n",
      "voting_1 top3:  0.37988826815642457\n",
      "voting_3 top3:  0.40625\n",
      "voting_10 top3:  0.4090909090909091\n",
      "voting_all top3:  0.4\n",
      "epoch: 6\n"
     ]
    },
    {
     "name": "stderr",
     "output_type": "stream",
     "text": [
      "100%|██████████| 85/85 [00:01<00:00, 61.60it/s]\n",
      "100%|██████████| 18/18 [00:00<00:00, 133.84it/s]\n"
     ]
    },
    {
     "name": "stdout",
     "output_type": "stream",
     "text": [
      "Training Loss: 2.186037 \tValidation Loss: 2.346207\n",
      "Train Accuracy: 0.182353 \tValid Accuracy: 0.144444\n",
      "voting_1_ ACC: 0.1452513966480447\n",
      "voting_3_ ACC: 0.1875\n",
      "voting_10_ ACC: 0.18181818181818182\n",
      "voting_all_ ACC: 0.2\n",
      "voting_1_ MAP :  0.903208253276059\n",
      "voting_3_ MAP :  0.8186641109435226\n",
      "voting_10_ MAP :  1.0\n",
      "voting_all_ MAP :  1.0\n",
      "voting_1_ F1 Score: 0.1452513966480447\n",
      "voting_3_ F1 Score: 0.1875\n",
      "voting_10_ F1 Score: 0.18181818181818182\n",
      "voting_all_ F1 Score: 0.20000000000000004\n",
      "voting_1 top3:  0.3463687150837989\n",
      "voting_3 top3:  0.328125\n",
      "voting_10 top3:  0.4090909090909091\n",
      "voting_all top3:  0.3\n",
      "epoch: 7\n"
     ]
    },
    {
     "name": "stderr",
     "output_type": "stream",
     "text": [
      "100%|██████████| 85/85 [00:01<00:00, 62.35it/s]\n",
      "100%|██████████| 18/18 [00:00<00:00, 145.02it/s]\n"
     ]
    },
    {
     "name": "stdout",
     "output_type": "stream",
     "text": [
      "Training Loss: 2.170033 \tValidation Loss: 2.289919\n",
      "Train Accuracy: 0.187059 \tValid Accuracy: 0.185185\n",
      "voting_1_ ACC: 0.18435754189944134\n",
      "voting_3_ ACC: 0.15625\n",
      "voting_10_ ACC: 0.22727272727272727\n",
      "voting_all_ ACC: 0.2\n",
      "voting_1_ MAP :  0.8451088188742415\n",
      "voting_3_ MAP :  0.8984967320261438\n",
      "voting_10_ MAP :  0.9428571428571428\n",
      "voting_all_ MAP :  1.0\n",
      "voting_1_ F1 Score: 0.18435754189944134\n",
      "voting_3_ F1 Score: 0.15625\n",
      "voting_10_ F1 Score: 0.22727272727272727\n",
      "voting_all_ F1 Score: 0.20000000000000004\n",
      "voting_1 top3:  0.37988826815642457\n",
      "voting_3 top3:  0.40625\n",
      "voting_10 top3:  0.4090909090909091\n",
      "voting_all top3:  0.5\n",
      "epoch: 8\n"
     ]
    },
    {
     "name": "stderr",
     "output_type": "stream",
     "text": [
      "100%|██████████| 85/85 [00:01<00:00, 60.67it/s]\n",
      "100%|██████████| 18/18 [00:00<00:00, 135.55it/s]\n"
     ]
    },
    {
     "name": "stdout",
     "output_type": "stream",
     "text": [
      "Training Loss: 2.181736 \tValidation Loss: 2.262224\n",
      "Train Accuracy: 0.172941 \tValid Accuracy: 0.184568\n",
      "Validation loss decreased (2.287450 --> 2.262224).  Saving model ...\n",
      "voting_1_ ACC: 0.18435754189944134\n",
      "voting_3_ ACC: 0.234375\n",
      "voting_10_ ACC: 0.22727272727272727\n",
      "voting_all_ ACC: 0.2\n",
      "voting_1_ MAP :  0.825705674834196\n",
      "voting_3_ MAP :  0.8464264058381706\n",
      "voting_10_ MAP :  0.8526315789473684\n",
      "voting_all_ MAP :  1.0\n",
      "voting_1_ F1 Score: 0.18435754189944134\n",
      "voting_3_ F1 Score: 0.234375\n",
      "voting_10_ F1 Score: 0.22727272727272727\n",
      "voting_all_ F1 Score: 0.20000000000000004\n",
      "voting_1 top3:  0.4134078212290503\n",
      "voting_3 top3:  0.4375\n",
      "voting_10 top3:  0.4090909090909091\n",
      "voting_all top3:  0.4\n",
      "epoch: 9\n"
     ]
    },
    {
     "name": "stderr",
     "output_type": "stream",
     "text": [
      "100%|██████████| 85/85 [00:01<00:00, 57.67it/s]\n",
      "100%|██████████| 18/18 [00:00<00:00, 128.80it/s]\n"
     ]
    },
    {
     "name": "stdout",
     "output_type": "stream",
     "text": [
      "Training Loss: 2.118770 \tValidation Loss: 2.349150\n",
      "Train Accuracy: 0.209412 \tValid Accuracy: 0.156790\n",
      "voting_1_ ACC: 0.1564245810055866\n",
      "voting_3_ ACC: 0.140625\n",
      "voting_10_ ACC: 0.18181818181818182\n",
      "voting_all_ ACC: 0.2\n",
      "voting_1_ MAP :  0.8618616252692823\n",
      "voting_3_ MAP :  0.9575757575757576\n",
      "voting_10_ MAP :  0.95\n",
      "voting_all_ MAP :  1.0\n",
      "voting_1_ F1 Score: 0.1564245810055866\n",
      "voting_3_ F1 Score: 0.140625\n",
      "voting_10_ F1 Score: 0.18181818181818182\n",
      "voting_all_ F1 Score: 0.20000000000000004\n",
      "voting_1 top3:  0.3687150837988827\n",
      "voting_3 top3:  0.328125\n",
      "voting_10 top3:  0.36363636363636365\n",
      "voting_all top3:  0.4\n",
      "epoch: 10\n"
     ]
    },
    {
     "name": "stderr",
     "output_type": "stream",
     "text": [
      "100%|██████████| 85/85 [00:01<00:00, 61.35it/s]\n",
      "100%|██████████| 18/18 [00:00<00:00, 126.36it/s]\n"
     ]
    },
    {
     "name": "stdout",
     "output_type": "stream",
     "text": [
      "Training Loss: 2.098777 \tValidation Loss: 2.320655\n",
      "Train Accuracy: 0.223529 \tValid Accuracy: 0.122222\n",
      "voting_1_ ACC: 0.12290502793296089\n",
      "voting_3_ ACC: 0.125\n",
      "voting_10_ ACC: 0.18181818181818182\n",
      "voting_all_ ACC: 0.2\n",
      "voting_1_ MAP :  0.8599934717927966\n",
      "voting_3_ MAP :  0.8295454545454546\n",
      "voting_10_ MAP :  0.8875\n",
      "voting_all_ MAP :  1.0\n",
      "voting_1_ F1 Score: 0.12290502793296089\n",
      "voting_3_ F1 Score: 0.125\n",
      "voting_10_ F1 Score: 0.18181818181818182\n",
      "voting_all_ F1 Score: 0.20000000000000004\n",
      "voting_1 top3:  0.35195530726256985\n",
      "voting_3 top3:  0.421875\n",
      "voting_10 top3:  0.4090909090909091\n",
      "voting_all top3:  0.5\n",
      "epoch: 11\n"
     ]
    },
    {
     "name": "stderr",
     "output_type": "stream",
     "text": [
      "100%|██████████| 85/85 [00:01<00:00, 61.53it/s]\n",
      "100%|██████████| 18/18 [00:00<00:00, 132.20it/s]\n"
     ]
    },
    {
     "name": "stdout",
     "output_type": "stream",
     "text": [
      "Training Loss: 2.107536 \tValidation Loss: 2.375500\n",
      "Train Accuracy: 0.209412 \tValid Accuracy: 0.155556\n",
      "voting_1_ ACC: 0.1564245810055866\n",
      "voting_3_ ACC: 0.15625\n",
      "voting_10_ ACC: 0.22727272727272727\n",
      "voting_all_ ACC: 0.3\n",
      "voting_1_ MAP :  0.9006272067817679\n",
      "voting_3_ MAP :  0.9256410256410257\n",
      "voting_10_ MAP :  0.9666666666666666\n",
      "voting_all_ MAP :  0.9166666666666665\n",
      "voting_1_ F1 Score: 0.1564245810055866\n",
      "voting_3_ F1 Score: 0.15625\n",
      "voting_10_ F1 Score: 0.22727272727272727\n",
      "voting_all_ F1 Score: 0.3\n",
      "voting_1 top3:  0.30726256983240224\n",
      "voting_3 top3:  0.375\n",
      "voting_10 top3:  0.4090909090909091\n",
      "voting_all top3:  0.5\n",
      "epoch: 12\n"
     ]
    },
    {
     "name": "stderr",
     "output_type": "stream",
     "text": [
      "100%|██████████| 85/85 [00:01<00:00, 61.43it/s]\n",
      "100%|██████████| 18/18 [00:00<00:00, 139.99it/s]\n"
     ]
    },
    {
     "name": "stdout",
     "output_type": "stream",
     "text": [
      "Training Loss: 2.114650 \tValidation Loss: 2.303751\n",
      "Train Accuracy: 0.202353 \tValid Accuracy: 0.140741\n",
      "voting_1_ ACC: 0.13966480446927373\n",
      "voting_3_ ACC: 0.171875\n",
      "voting_10_ ACC: 0.13636363636363635\n",
      "voting_all_ ACC: 0.2\n",
      "voting_1_ MAP :  0.6281309156833685\n",
      "voting_3_ MAP :  0.5093573019375158\n",
      "voting_10_ MAP :  0.4666666666666667\n",
      "voting_all_ MAP :  0.5\n",
      "voting_1_ F1 Score: 0.13966480446927373\n",
      "voting_3_ F1 Score: 0.171875\n",
      "voting_10_ F1 Score: 0.13636363636363635\n",
      "voting_all_ F1 Score: 0.20000000000000004\n",
      "voting_1 top3:  0.3240223463687151\n",
      "voting_3 top3:  0.328125\n",
      "voting_10 top3:  0.4090909090909091\n",
      "voting_all top3:  0.4\n",
      "epoch: 13\n"
     ]
    },
    {
     "name": "stderr",
     "output_type": "stream",
     "text": [
      "100%|██████████| 85/85 [00:01<00:00, 62.30it/s]\n",
      "100%|██████████| 18/18 [00:00<00:00, 128.73it/s]\n"
     ]
    },
    {
     "name": "stdout",
     "output_type": "stream",
     "text": [
      "Training Loss: 2.092665 \tValidation Loss: 2.371108\n",
      "Train Accuracy: 0.230588 \tValid Accuracy: 0.155556\n",
      "voting_1_ ACC: 0.1564245810055866\n",
      "voting_3_ ACC: 0.171875\n",
      "voting_10_ ACC: 0.18181818181818182\n",
      "voting_all_ ACC: 0.2\n",
      "voting_1_ MAP :  0.8801124363210614\n",
      "voting_3_ MAP :  0.9117105117105118\n",
      "voting_10_ MAP :  1.0\n",
      "voting_all_ MAP :  1.0\n",
      "voting_1_ F1 Score: 0.1564245810055866\n",
      "voting_3_ F1 Score: 0.171875\n",
      "voting_10_ F1 Score: 0.18181818181818182\n",
      "voting_all_ F1 Score: 0.20000000000000004\n",
      "voting_1 top3:  0.35195530726256985\n",
      "voting_3 top3:  0.40625\n",
      "voting_10 top3:  0.45454545454545453\n",
      "voting_all top3:  0.5\n",
      "epoch: 14\n"
     ]
    },
    {
     "name": "stderr",
     "output_type": "stream",
     "text": [
      "100%|██████████| 85/85 [00:01<00:00, 60.57it/s]\n",
      "100%|██████████| 18/18 [00:00<00:00, 128.64it/s]\n"
     ]
    },
    {
     "name": "stdout",
     "output_type": "stream",
     "text": [
      "Training Loss: 2.075236 \tValidation Loss: 2.316967\n",
      "Train Accuracy: 0.228235 \tValid Accuracy: 0.133333\n",
      "voting_1_ ACC: 0.1340782122905028\n",
      "voting_3_ ACC: 0.1875\n",
      "voting_10_ ACC: 0.22727272727272727\n",
      "voting_all_ ACC: 0.2\n",
      "voting_1_ MAP :  0.810786039720623\n",
      "voting_3_ MAP :  0.6998129185629185\n",
      "voting_10_ MAP :  0.8155555555555556\n",
      "voting_all_ MAP :  1.0\n",
      "voting_1_ F1 Score: 0.1340782122905028\n",
      "voting_3_ F1 Score: 0.1875\n",
      "voting_10_ F1 Score: 0.22727272727272727\n",
      "voting_all_ F1 Score: 0.20000000000000004\n",
      "voting_1 top3:  0.31843575418994413\n",
      "voting_3 top3:  0.375\n",
      "voting_10 top3:  0.5\n",
      "voting_all top3:  0.6\n",
      "------------------------------------------------------------------------\n",
      "Training for fold 5/6 ...\n",
      "epoch: 0\n"
     ]
    },
    {
     "name": "stderr",
     "output_type": "stream",
     "text": [
      "100%|██████████| 86/86 [00:01<00:00, 59.90it/s]\n",
      "100%|██████████| 17/17 [00:00<00:00, 141.93it/s]\n"
     ]
    },
    {
     "name": "stdout",
     "output_type": "stream",
     "text": [
      "Training Loss: 2.523370 \tValidation Loss: 2.324050\n",
      "Train Accuracy: 0.097804 \tValid Accuracy: 0.111765\n",
      "Validation loss decreased (inf --> 2.324050).  Saving model ...\n",
      "voting_1_ ACC: 0.11515151515151516\n",
      "voting_3_ ACC: 0.10344827586206896\n",
      "voting_10_ ACC: 0.09523809523809523\n",
      "voting_all_ ACC: 0.1\n",
      "voting_1_ MAP :  0.8068404777474358\n",
      "voting_3_ MAP :  0.7107142857142857\n",
      "voting_10_ MAP :  0.7\n",
      "voting_all_ MAP :  1.0\n",
      "voting_1_ F1 Score: 0.11515151515151516\n",
      "voting_3_ F1 Score: 0.10344827586206896\n",
      "voting_10_ F1 Score: 0.09523809523809523\n",
      "voting_all_ F1 Score: 0.10000000000000002\n",
      "voting_1 top3:  0.3515151515151515\n",
      "voting_3 top3:  0.3448275862068966\n",
      "voting_10 top3:  0.2857142857142857\n",
      "voting_all top3:  0.3\n",
      "epoch: 1\n"
     ]
    },
    {
     "name": "stderr",
     "output_type": "stream",
     "text": [
      "100%|██████████| 86/86 [00:01<00:00, 60.65it/s]\n",
      "100%|██████████| 17/17 [00:00<00:00, 141.51it/s]\n"
     ]
    },
    {
     "name": "stdout",
     "output_type": "stream",
     "text": [
      "Training Loss: 2.324562 \tValidation Loss: 2.306801\n",
      "Train Accuracy: 0.109432 \tValid Accuracy: 0.111765\n",
      "Validation loss decreased (2.324050 --> 2.306801).  Saving model ...\n",
      "voting_1_ ACC: 0.11515151515151516\n",
      "voting_3_ ACC: 0.13793103448275862\n",
      "voting_10_ ACC: 0.14285714285714285\n",
      "voting_all_ ACC: 0.1\n",
      "voting_1_ MAP :  0.9257491639315003\n",
      "voting_3_ MAP :  0.8419642857142857\n",
      "voting_10_ MAP :  0.7192982456140351\n",
      "voting_all_ MAP :  1.0\n",
      "voting_1_ F1 Score: 0.11515151515151516\n",
      "voting_3_ F1 Score: 0.13793103448275862\n",
      "voting_10_ F1 Score: 0.14285714285714285\n",
      "voting_all_ F1 Score: 0.10000000000000002\n",
      "voting_1 top3:  0.3393939393939394\n",
      "voting_3 top3:  0.3275862068965517\n",
      "voting_10 top3:  0.2857142857142857\n",
      "voting_all top3:  0.3\n",
      "epoch: 2\n"
     ]
    },
    {
     "name": "stderr",
     "output_type": "stream",
     "text": [
      "100%|██████████| 86/86 [00:01<00:00, 59.75it/s]\n",
      "100%|██████████| 17/17 [00:00<00:00, 151.68it/s]\n"
     ]
    },
    {
     "name": "stdout",
     "output_type": "stream",
     "text": [
      "Training Loss: 2.273583 \tValidation Loss: 2.276715\n",
      "Train Accuracy: 0.146770 \tValid Accuracy: 0.170588\n",
      "Validation loss decreased (2.306801 --> 2.276715).  Saving model ...\n",
      "voting_1_ ACC: 0.17575757575757575\n",
      "voting_3_ ACC: 0.20689655172413793\n",
      "voting_10_ ACC: 0.19047619047619047\n",
      "voting_all_ ACC: 0.2\n",
      "voting_1_ MAP :  0.9934302002224693\n",
      "voting_3_ MAP :  1.0\n",
      "voting_10_ MAP :  1.0\n",
      "voting_all_ MAP :  1.0\n",
      "voting_1_ F1 Score: 0.17575757575757575\n",
      "voting_3_ F1 Score: 0.20689655172413793\n",
      "voting_10_ F1 Score: 0.19047619047619047\n",
      "voting_all_ F1 Score: 0.20000000000000004\n",
      "voting_1 top3:  0.38181818181818183\n",
      "voting_3 top3:  0.27586206896551724\n",
      "voting_10 top3:  0.3333333333333333\n",
      "voting_all top3:  0.3\n",
      "epoch: 3\n"
     ]
    },
    {
     "name": "stderr",
     "output_type": "stream",
     "text": [
      "100%|██████████| 86/86 [00:01<00:00, 58.07it/s]\n",
      "100%|██████████| 17/17 [00:00<00:00, 133.27it/s]\n"
     ]
    },
    {
     "name": "stdout",
     "output_type": "stream",
     "text": [
      "Training Loss: 2.208163 \tValidation Loss: 2.251649\n",
      "Train Accuracy: 0.179457 \tValid Accuracy: 0.170588\n",
      "Validation loss decreased (2.276715 --> 2.251649).  Saving model ...\n",
      "voting_1_ ACC: 0.15757575757575756\n",
      "voting_3_ ACC: 0.1724137931034483\n",
      "voting_10_ ACC: 0.19047619047619047\n",
      "voting_all_ ACC: 0.2\n",
      "voting_1_ MAP :  0.8754454409273894\n",
      "voting_3_ MAP :  0.8264165264165264\n",
      "voting_10_ MAP :  0.8\n",
      "voting_all_ MAP :  1.0\n",
      "voting_1_ F1 Score: 0.15757575757575756\n",
      "voting_3_ F1 Score: 0.1724137931034483\n",
      "voting_10_ F1 Score: 0.19047619047619047\n",
      "voting_all_ F1 Score: 0.20000000000000004\n",
      "voting_1 top3:  0.4121212121212121\n",
      "voting_3 top3:  0.5\n",
      "voting_10 top3:  0.5714285714285714\n",
      "voting_all top3:  0.7\n",
      "epoch: 4\n"
     ]
    },
    {
     "name": "stderr",
     "output_type": "stream",
     "text": [
      "100%|██████████| 86/86 [00:01<00:00, 59.48it/s]\n",
      "100%|██████████| 17/17 [00:00<00:00, 135.08it/s]\n"
     ]
    },
    {
     "name": "stdout",
     "output_type": "stream",
     "text": [
      "Training Loss: 2.132593 \tValidation Loss: 2.140527\n",
      "Train Accuracy: 0.190827 \tValid Accuracy: 0.247059\n",
      "Validation loss decreased (2.251649 --> 2.140527).  Saving model ...\n",
      "voting_1_ ACC: 0.24848484848484848\n",
      "voting_3_ ACC: 0.25862068965517243\n",
      "voting_10_ ACC: 0.23809523809523808\n",
      "voting_all_ ACC: 0.2\n",
      "voting_1_ MAP :  0.9317738314132802\n",
      "voting_3_ MAP :  0.9204248366013071\n",
      "voting_10_ MAP :  0.7588235294117647\n",
      "voting_all_ MAP :  1.0\n",
      "voting_1_ F1 Score: 0.24848484848484848\n",
      "voting_3_ F1 Score: 0.25862068965517243\n",
      "voting_10_ F1 Score: 0.23809523809523808\n",
      "voting_all_ F1 Score: 0.20000000000000004\n",
      "voting_1 top3:  0.45454545454545453\n",
      "voting_3 top3:  0.46551724137931033\n",
      "voting_10 top3:  0.5714285714285714\n",
      "voting_all top3:  0.6\n",
      "epoch: 5\n"
     ]
    },
    {
     "name": "stderr",
     "output_type": "stream",
     "text": [
      "100%|██████████| 86/86 [00:01<00:00, 59.38it/s]\n",
      "100%|██████████| 17/17 [00:00<00:00, 134.97it/s]\n"
     ]
    },
    {
     "name": "stdout",
     "output_type": "stream",
     "text": [
      "Training Loss: 2.084670 \tValidation Loss: 2.167326\n",
      "Train Accuracy: 0.215633 \tValid Accuracy: 0.217647\n",
      "voting_1_ ACC: 0.21818181818181817\n",
      "voting_3_ ACC: 0.25862068965517243\n",
      "voting_10_ ACC: 0.23809523809523808\n",
      "voting_all_ ACC: 0.2\n",
      "voting_1_ MAP :  0.9631069023654381\n",
      "voting_3_ MAP :  0.8923976608187134\n",
      "voting_10_ MAP :  0.8555555555555556\n",
      "voting_all_ MAP :  1.0\n",
      "voting_1_ F1 Score: 0.21818181818181817\n",
      "voting_3_ F1 Score: 0.25862068965517243\n",
      "voting_10_ F1 Score: 0.23809523809523808\n",
      "voting_all_ F1 Score: 0.20000000000000004\n",
      "voting_1 top3:  0.4484848484848485\n",
      "voting_3 top3:  0.4482758620689655\n",
      "voting_10 top3:  0.3333333333333333\n",
      "voting_all top3:  0.4\n",
      "epoch: 6\n"
     ]
    },
    {
     "name": "stderr",
     "output_type": "stream",
     "text": [
      "100%|██████████| 86/86 [00:01<00:00, 60.50it/s]\n",
      "100%|██████████| 17/17 [00:00<00:00, 137.24it/s]\n"
     ]
    },
    {
     "name": "stdout",
     "output_type": "stream",
     "text": [
      "Training Loss: 2.071778 \tValidation Loss: 2.166179\n",
      "Train Accuracy: 0.217700 \tValid Accuracy: 0.252941\n",
      "voting_1_ ACC: 0.2606060606060606\n",
      "voting_3_ ACC: 0.29310344827586204\n",
      "voting_10_ ACC: 0.3333333333333333\n",
      "voting_all_ ACC: 0.3\n",
      "voting_1_ MAP :  0.8876683550209337\n",
      "voting_3_ MAP :  0.9270667723886628\n",
      "voting_10_ MAP :  0.7158730158730158\n",
      "voting_all_ MAP :  0.8666666666666667\n",
      "voting_1_ F1 Score: 0.2606060606060606\n",
      "voting_3_ F1 Score: 0.29310344827586204\n",
      "voting_10_ F1 Score: 0.3333333333333333\n",
      "voting_all_ F1 Score: 0.3\n",
      "voting_1 top3:  0.4484848484848485\n",
      "voting_3 top3:  0.4482758620689655\n",
      "voting_10 top3:  0.5238095238095238\n",
      "voting_all top3:  0.5\n",
      "epoch: 7\n"
     ]
    },
    {
     "name": "stderr",
     "output_type": "stream",
     "text": [
      "100%|██████████| 86/86 [00:01<00:00, 59.67it/s]\n",
      "100%|██████████| 17/17 [00:00<00:00, 147.45it/s]\n"
     ]
    },
    {
     "name": "stdout",
     "output_type": "stream",
     "text": [
      "Training Loss: 2.097430 \tValidation Loss: 2.244038\n",
      "Train Accuracy: 0.204910 \tValid Accuracy: 0.188235\n",
      "voting_1_ ACC: 0.19393939393939394\n",
      "voting_3_ ACC: 0.20689655172413793\n",
      "voting_10_ ACC: 0.19047619047619047\n",
      "voting_all_ ACC: 0.2\n",
      "voting_1_ MAP :  0.7741274540800402\n",
      "voting_3_ MAP :  0.8622253416661312\n",
      "voting_10_ MAP :  0.85\n",
      "voting_all_ MAP :  1.0\n",
      "voting_1_ F1 Score: 0.19393939393939394\n",
      "voting_3_ F1 Score: 0.20689655172413793\n",
      "voting_10_ F1 Score: 0.19047619047619047\n",
      "voting_all_ F1 Score: 0.20000000000000004\n",
      "voting_1 top3:  0.41818181818181815\n",
      "voting_3 top3:  0.43103448275862066\n",
      "voting_10 top3:  0.5238095238095238\n",
      "voting_all top3:  0.4\n",
      "epoch: 8\n"
     ]
    },
    {
     "name": "stderr",
     "output_type": "stream",
     "text": [
      "100%|██████████| 86/86 [00:01<00:00, 60.32it/s]\n",
      "100%|██████████| 17/17 [00:00<00:00, 133.83it/s]\n"
     ]
    },
    {
     "name": "stdout",
     "output_type": "stream",
     "text": [
      "Training Loss: 2.074436 \tValidation Loss: 2.144499\n",
      "Train Accuracy: 0.220155 \tValid Accuracy: 0.258824\n",
      "voting_1_ ACC: 0.2606060606060606\n",
      "voting_3_ ACC: 0.29310344827586204\n",
      "voting_10_ ACC: 0.3333333333333333\n",
      "voting_all_ ACC: 0.3\n",
      "voting_1_ MAP :  0.9260178597621849\n",
      "voting_3_ MAP :  0.9453500833531794\n",
      "voting_10_ MAP :  0.8683473389355743\n",
      "voting_all_ MAP :  0.9166666666666665\n",
      "voting_1_ F1 Score: 0.2606060606060606\n",
      "voting_3_ F1 Score: 0.29310344827586204\n",
      "voting_10_ F1 Score: 0.3333333333333333\n",
      "voting_all_ F1 Score: 0.3\n",
      "voting_1 top3:  0.46060606060606063\n",
      "voting_3 top3:  0.46551724137931033\n",
      "voting_10 top3:  0.42857142857142855\n",
      "voting_all top3:  0.5\n",
      "epoch: 9\n"
     ]
    },
    {
     "name": "stderr",
     "output_type": "stream",
     "text": [
      "100%|██████████| 86/86 [00:01<00:00, 61.43it/s]\n",
      "100%|██████████| 17/17 [00:00<00:00, 128.46it/s]\n"
     ]
    },
    {
     "name": "stdout",
     "output_type": "stream",
     "text": [
      "Training Loss: 2.055576 \tValidation Loss: 2.278497\n",
      "Train Accuracy: 0.218863 \tValid Accuracy: 0.176471\n",
      "voting_1_ ACC: 0.18181818181818182\n",
      "voting_3_ ACC: 0.1896551724137931\n",
      "voting_10_ ACC: 0.19047619047619047\n",
      "voting_all_ ACC: 0.1\n",
      "voting_1_ MAP :  0.7966127934044812\n",
      "voting_3_ MAP :  0.8485574217245772\n",
      "voting_10_ MAP :  0.6458333333333333\n",
      "voting_all_ MAP :  1.0\n",
      "voting_1_ F1 Score: 0.18181818181818182\n",
      "voting_3_ F1 Score: 0.1896551724137931\n",
      "voting_10_ F1 Score: 0.19047619047619047\n",
      "voting_all_ F1 Score: 0.10000000000000002\n",
      "voting_1 top3:  0.4484848484848485\n",
      "voting_3 top3:  0.5\n",
      "voting_10 top3:  0.5238095238095238\n",
      "voting_all top3:  0.5\n",
      "epoch: 10\n"
     ]
    },
    {
     "name": "stderr",
     "output_type": "stream",
     "text": [
      "100%|██████████| 86/86 [00:01<00:00, 60.56it/s]\n",
      "100%|██████████| 17/17 [00:00<00:00, 142.62it/s]\n"
     ]
    },
    {
     "name": "stdout",
     "output_type": "stream",
     "text": [
      "Training Loss: 2.059271 \tValidation Loss: 2.198761\n",
      "Train Accuracy: 0.194186 \tValid Accuracy: 0.194118\n",
      "voting_1_ ACC: 0.2\n",
      "voting_3_ ACC: 0.22413793103448276\n",
      "voting_10_ ACC: 0.2857142857142857\n",
      "voting_all_ ACC: 0.2\n",
      "voting_1_ MAP :  0.8479854500638436\n",
      "voting_3_ MAP :  0.7912774003271741\n",
      "voting_10_ MAP :  0.6418654874537227\n",
      "voting_all_ MAP :  0.8333333333333333\n",
      "voting_1_ F1 Score: 0.20000000000000004\n",
      "voting_3_ F1 Score: 0.22413793103448276\n",
      "voting_10_ F1 Score: 0.2857142857142857\n",
      "voting_all_ F1 Score: 0.20000000000000004\n",
      "voting_1 top3:  0.42424242424242425\n",
      "voting_3 top3:  0.3793103448275862\n",
      "voting_10 top3:  0.47619047619047616\n",
      "voting_all top3:  0.4\n",
      "epoch: 11\n"
     ]
    },
    {
     "name": "stderr",
     "output_type": "stream",
     "text": [
      "100%|██████████| 86/86 [00:01<00:00, 59.73it/s]\n",
      "100%|██████████| 17/17 [00:00<00:00, 143.02it/s]\n"
     ]
    },
    {
     "name": "stdout",
     "output_type": "stream",
     "text": [
      "Training Loss: 2.063535 \tValidation Loss: 2.233268\n",
      "Train Accuracy: 0.227003 \tValid Accuracy: 0.188235\n",
      "voting_1_ ACC: 0.19393939393939394\n",
      "voting_3_ ACC: 0.22413793103448276\n",
      "voting_10_ ACC: 0.2857142857142857\n",
      "voting_all_ ACC: 0.2\n",
      "voting_1_ MAP :  0.9194022976142627\n",
      "voting_3_ MAP :  0.8792162965239887\n",
      "voting_10_ MAP :  0.8148148148148148\n",
      "voting_all_ MAP :  1.0\n",
      "voting_1_ F1 Score: 0.19393939393939394\n",
      "voting_3_ F1 Score: 0.22413793103448276\n",
      "voting_10_ F1 Score: 0.2857142857142857\n",
      "voting_all_ F1 Score: 0.20000000000000004\n",
      "voting_1 top3:  0.43636363636363634\n",
      "voting_3 top3:  0.41379310344827586\n",
      "voting_10 top3:  0.42857142857142855\n",
      "voting_all top3:  0.4\n",
      "epoch: 12\n"
     ]
    },
    {
     "name": "stderr",
     "output_type": "stream",
     "text": [
      "100%|██████████| 86/86 [00:01<00:00, 60.71it/s]\n",
      "100%|██████████| 17/17 [00:00<00:00, 142.36it/s]\n"
     ]
    },
    {
     "name": "stdout",
     "output_type": "stream",
     "text": [
      "Training Loss: 2.037231 \tValidation Loss: 2.218920\n",
      "Train Accuracy: 0.218863 \tValid Accuracy: 0.164706\n",
      "voting_1_ ACC: 0.16363636363636364\n",
      "voting_3_ ACC: 0.1724137931034483\n",
      "voting_10_ ACC: 0.14285714285714285\n",
      "voting_all_ ACC: 0.1\n",
      "voting_1_ MAP :  0.8209342710884937\n",
      "voting_3_ MAP :  0.7776911976911977\n",
      "voting_10_ MAP :  0.7192982456140351\n",
      "voting_all_ MAP :  1.0\n",
      "voting_1_ F1 Score: 0.16363636363636364\n",
      "voting_3_ F1 Score: 0.1724137931034483\n",
      "voting_10_ F1 Score: 0.14285714285714285\n",
      "voting_all_ F1 Score: 0.10000000000000002\n",
      "voting_1 top3:  0.4303030303030303\n",
      "voting_3 top3:  0.5517241379310345\n",
      "voting_10 top3:  0.5714285714285714\n",
      "voting_all top3:  0.6\n",
      "epoch: 13\n"
     ]
    },
    {
     "name": "stderr",
     "output_type": "stream",
     "text": [
      "100%|██████████| 86/86 [00:01<00:00, 59.47it/s]\n",
      "100%|██████████| 17/17 [00:00<00:00, 121.46it/s]\n"
     ]
    },
    {
     "name": "stdout",
     "output_type": "stream",
     "text": [
      "Training Loss: 2.063202 \tValidation Loss: 2.171746\n",
      "Train Accuracy: 0.238501 \tValid Accuracy: 0.235294\n",
      "voting_1_ ACC: 0.23636363636363636\n",
      "voting_3_ ACC: 0.22413793103448276\n",
      "voting_10_ ACC: 0.23809523809523808\n",
      "voting_all_ ACC: 0.2\n",
      "voting_1_ MAP :  0.8328674570722244\n",
      "voting_3_ MAP :  0.8248792873792874\n",
      "voting_10_ MAP :  0.8155555555555556\n",
      "voting_all_ MAP :  1.0\n",
      "voting_1_ F1 Score: 0.23636363636363636\n",
      "voting_3_ F1 Score: 0.22413793103448276\n",
      "voting_10_ F1 Score: 0.23809523809523808\n",
      "voting_all_ F1 Score: 0.20000000000000004\n",
      "voting_1 top3:  0.4727272727272727\n",
      "voting_3 top3:  0.5689655172413793\n",
      "voting_10 top3:  0.6190476190476191\n",
      "voting_all top3:  0.6\n",
      "epoch: 14\n"
     ]
    },
    {
     "name": "stderr",
     "output_type": "stream",
     "text": [
      "100%|██████████| 86/86 [00:01<00:00, 61.42it/s]\n",
      "100%|██████████| 17/17 [00:00<00:00, 127.59it/s]\n"
     ]
    },
    {
     "name": "stdout",
     "output_type": "stream",
     "text": [
      "Training Loss: 2.067281 \tValidation Loss: 2.207554\n",
      "Train Accuracy: 0.212274 \tValid Accuracy: 0.141176\n",
      "voting_1_ ACC: 0.14545454545454545\n",
      "voting_3_ ACC: 0.13793103448275862\n",
      "voting_10_ ACC: 0.19047619047619047\n",
      "voting_all_ ACC: 0.2\n",
      "voting_1_ MAP :  0.8150823529573266\n",
      "voting_3_ MAP :  0.8831845238095238\n",
      "voting_10_ MAP :  0.6626984126984127\n",
      "voting_all_ MAP :  1.0\n",
      "voting_1_ F1 Score: 0.14545454545454545\n",
      "voting_3_ F1 Score: 0.13793103448275862\n",
      "voting_10_ F1 Score: 0.19047619047619047\n",
      "voting_all_ F1 Score: 0.20000000000000004\n",
      "voting_1 top3:  0.41818181818181815\n",
      "voting_3 top3:  0.39655172413793105\n",
      "voting_10 top3:  0.5238095238095238\n",
      "voting_all top3:  0.4\n",
      "------------------------------------------------------------------------\n",
      "Training for fold 6/6 ...\n",
      "epoch: 0\n"
     ]
    },
    {
     "name": "stderr",
     "output_type": "stream",
     "text": [
      "100%|██████████| 86/86 [00:01<00:00, 61.76it/s]\n",
      "100%|██████████| 17/17 [00:00<00:00, 151.95it/s]\n"
     ]
    },
    {
     "name": "stdout",
     "output_type": "stream",
     "text": [
      "Training Loss: 2.494811 \tValidation Loss: 2.333998\n",
      "Train Accuracy: 0.114341 \tValid Accuracy: 0.105882\n",
      "Validation loss decreased (inf --> 2.333998).  Saving model ...\n",
      "voting_1_ ACC: 0.10714285714285714\n",
      "voting_3_ ACC: 0.1206896551724138\n",
      "voting_10_ ACC: 0.09523809523809523\n",
      "voting_all_ ACC: 0.1\n",
      "voting_1_ MAP :  0.6850934581939485\n",
      "voting_3_ MAP :  0.7568027210884354\n",
      "voting_10_ MAP :  0.5\n",
      "voting_all_ MAP :  0.5\n",
      "voting_1_ F1 Score: 0.10714285714285714\n",
      "voting_3_ F1 Score: 0.1206896551724138\n",
      "voting_10_ F1 Score: 0.09523809523809523\n",
      "voting_all_ F1 Score: 0.10000000000000002\n",
      "voting_1 top3:  0.2976190476190476\n",
      "voting_3 top3:  0.29310344827586204\n",
      "voting_10 top3:  0.2857142857142857\n",
      "voting_all top3:  0.3\n",
      "epoch: 1\n"
     ]
    },
    {
     "name": "stderr",
     "output_type": "stream",
     "text": [
      "100%|██████████| 86/86 [00:01<00:00, 59.17it/s]\n",
      "100%|██████████| 17/17 [00:00<00:00, 141.15it/s]\n"
     ]
    },
    {
     "name": "stdout",
     "output_type": "stream",
     "text": [
      "Training Loss: 2.336457 \tValidation Loss: 2.301992\n",
      "Train Accuracy: 0.096124 \tValid Accuracy: 0.135294\n",
      "Validation loss decreased (2.333998 --> 2.301992).  Saving model ...\n",
      "voting_1_ ACC: 0.13690476190476192\n",
      "voting_3_ ACC: 0.13793103448275862\n",
      "voting_10_ ACC: 0.14285714285714285\n",
      "voting_all_ ACC: 0.1\n",
      "voting_1_ MAP :  0.951477347129521\n",
      "voting_3_ MAP :  0.9013157894736842\n",
      "voting_10_ MAP :  0.7192982456140351\n",
      "voting_all_ MAP :  1.0\n",
      "voting_1_ F1 Score: 0.13690476190476192\n",
      "voting_3_ F1 Score: 0.13793103448275862\n",
      "voting_10_ F1 Score: 0.14285714285714285\n",
      "voting_all_ F1 Score: 0.10000000000000002\n",
      "voting_1 top3:  0.3333333333333333\n",
      "voting_3 top3:  0.29310344827586204\n",
      "voting_10 top3:  0.3333333333333333\n",
      "voting_all top3:  0.3\n",
      "epoch: 2\n"
     ]
    },
    {
     "name": "stderr",
     "output_type": "stream",
     "text": [
      "100%|██████████| 86/86 [00:01<00:00, 60.61it/s]\n",
      "100%|██████████| 17/17 [00:00<00:00, 147.96it/s]\n"
     ]
    },
    {
     "name": "stdout",
     "output_type": "stream",
     "text": [
      "Training Loss: 2.307927 \tValidation Loss: 2.291691\n",
      "Train Accuracy: 0.142248 \tValid Accuracy: 0.142647\n",
      "Validation loss decreased (2.301992 --> 2.291691).  Saving model ...\n",
      "voting_1_ ACC: 0.14285714285714285\n",
      "voting_3_ ACC: 0.1206896551724138\n",
      "voting_10_ ACC: 0.14285714285714285\n",
      "voting_all_ ACC: 0.1\n",
      "voting_1_ MAP :  0.9098815795232057\n",
      "voting_3_ MAP :  1.0\n",
      "voting_10_ MAP :  0.2096171802054155\n",
      "voting_all_ MAP :  1.0\n",
      "voting_1_ F1 Score: 0.14285714285714285\n",
      "voting_3_ F1 Score: 0.1206896551724138\n",
      "voting_10_ F1 Score: 0.14285714285714285\n",
      "voting_all_ F1 Score: 0.10000000000000002\n",
      "voting_1 top3:  0.35714285714285715\n",
      "voting_3 top3:  0.3448275862068966\n",
      "voting_10 top3:  0.42857142857142855\n",
      "voting_all top3:  0.3\n",
      "epoch: 3\n"
     ]
    },
    {
     "name": "stderr",
     "output_type": "stream",
     "text": [
      "100%|██████████| 86/86 [00:01<00:00, 62.11it/s]\n",
      "100%|██████████| 17/17 [00:00<00:00, 126.27it/s]\n"
     ]
    },
    {
     "name": "stdout",
     "output_type": "stream",
     "text": [
      "Training Loss: 2.242899 \tValidation Loss: 2.251086\n",
      "Train Accuracy: 0.182558 \tValid Accuracy: 0.163235\n",
      "Validation loss decreased (2.291691 --> 2.251086).  Saving model ...\n",
      "voting_1_ ACC: 0.16071428571428573\n",
      "voting_3_ ACC: 0.13793103448275862\n",
      "voting_10_ ACC: 0.19047619047619047\n",
      "voting_all_ ACC: 0.2\n",
      "voting_1_ MAP :  0.8039424319156694\n",
      "voting_3_ MAP :  0.7529647435897435\n",
      "voting_10_ MAP :  0.6388888888888888\n",
      "voting_all_ MAP :  0.75\n",
      "voting_1_ F1 Score: 0.16071428571428573\n",
      "voting_3_ F1 Score: 0.13793103448275862\n",
      "voting_10_ F1 Score: 0.19047619047619047\n",
      "voting_all_ F1 Score: 0.20000000000000004\n",
      "voting_1 top3:  0.4166666666666667\n",
      "voting_3 top3:  0.39655172413793105\n",
      "voting_10 top3:  0.47619047619047616\n",
      "voting_all top3:  0.5\n",
      "epoch: 4\n"
     ]
    },
    {
     "name": "stderr",
     "output_type": "stream",
     "text": [
      "100%|██████████| 86/86 [00:01<00:00, 60.77it/s]\n",
      "100%|██████████| 17/17 [00:00<00:00, 112.95it/s]\n"
     ]
    },
    {
     "name": "stdout",
     "output_type": "stream",
     "text": [
      "Training Loss: 2.173699 \tValidation Loss: 2.289453\n",
      "Train Accuracy: 0.190698 \tValid Accuracy: 0.167647\n",
      "voting_1_ ACC: 0.16666666666666666\n",
      "voting_3_ ACC: 0.20689655172413793\n",
      "voting_10_ ACC: 0.19047619047619047\n",
      "voting_all_ ACC: 0.1\n",
      "voting_1_ MAP :  0.6677174430251844\n",
      "voting_3_ MAP :  0.6678771392006687\n",
      "voting_10_ MAP :  0.5875\n",
      "voting_all_ MAP :  1.0\n",
      "voting_1_ F1 Score: 0.16666666666666666\n",
      "voting_3_ F1 Score: 0.20689655172413793\n",
      "voting_10_ F1 Score: 0.19047619047619047\n",
      "voting_all_ F1 Score: 0.10000000000000002\n",
      "voting_1 top3:  0.4166666666666667\n",
      "voting_3 top3:  0.5\n",
      "voting_10 top3:  0.42857142857142855\n",
      "voting_all top3:  0.5\n",
      "epoch: 5\n"
     ]
    },
    {
     "name": "stderr",
     "output_type": "stream",
     "text": [
      "100%|██████████| 86/86 [00:01<00:00, 62.30it/s]\n",
      "100%|██████████| 17/17 [00:00<00:00, 127.58it/s]\n"
     ]
    },
    {
     "name": "stdout",
     "output_type": "stream",
     "text": [
      "Training Loss: 2.148839 \tValidation Loss: 2.222278\n",
      "Train Accuracy: 0.194961 \tValid Accuracy: 0.188235\n",
      "Validation loss decreased (2.251086 --> 2.222278).  Saving model ...\n",
      "voting_1_ ACC: 0.19047619047619047\n",
      "voting_3_ ACC: 0.25862068965517243\n",
      "voting_10_ ACC: 0.2857142857142857\n",
      "voting_all_ ACC: 0.3\n",
      "voting_1_ MAP :  0.7986104117302728\n",
      "voting_3_ MAP :  0.8790620181332256\n",
      "voting_10_ MAP :  0.8238095238095238\n",
      "voting_all_ MAP :  1.0\n",
      "voting_1_ F1 Score: 0.19047619047619047\n",
      "voting_3_ F1 Score: 0.25862068965517243\n",
      "voting_10_ F1 Score: 0.2857142857142857\n",
      "voting_all_ F1 Score: 0.3\n",
      "voting_1 top3:  0.44642857142857145\n",
      "voting_3 top3:  0.4827586206896552\n",
      "voting_10 top3:  0.42857142857142855\n",
      "voting_all top3:  0.4\n",
      "epoch: 6\n"
     ]
    },
    {
     "name": "stderr",
     "output_type": "stream",
     "text": [
      "100%|██████████| 86/86 [00:01<00:00, 59.54it/s]\n",
      "100%|██████████| 17/17 [00:00<00:00, 133.76it/s]\n"
     ]
    },
    {
     "name": "stdout",
     "output_type": "stream",
     "text": [
      "Training Loss: 2.118215 \tValidation Loss: 2.287291\n",
      "Train Accuracy: 0.192248 \tValid Accuracy: 0.170588\n",
      "voting_1_ ACC: 0.17261904761904762\n",
      "voting_3_ ACC: 0.1724137931034483\n",
      "voting_10_ ACC: 0.14285714285714285\n",
      "voting_all_ ACC: 0.1\n",
      "voting_1_ MAP :  0.773750904048661\n",
      "voting_3_ MAP :  0.9206417112299464\n",
      "voting_10_ MAP :  0.6111111111111112\n",
      "voting_all_ MAP :  1.0\n",
      "voting_1_ F1 Score: 0.17261904761904762\n",
      "voting_3_ F1 Score: 0.1724137931034483\n",
      "voting_10_ F1 Score: 0.14285714285714285\n",
      "voting_all_ F1 Score: 0.10000000000000002\n",
      "voting_1 top3:  0.4226190476190476\n",
      "voting_3 top3:  0.46551724137931033\n",
      "voting_10 top3:  0.5238095238095238\n",
      "voting_all top3:  0.5\n",
      "epoch: 7\n"
     ]
    },
    {
     "name": "stderr",
     "output_type": "stream",
     "text": [
      "100%|██████████| 86/86 [00:01<00:00, 59.91it/s]\n",
      "100%|██████████| 17/17 [00:00<00:00, 132.86it/s]\n"
     ]
    },
    {
     "name": "stdout",
     "output_type": "stream",
     "text": [
      "Training Loss: 2.053797 \tValidation Loss: 2.252947\n",
      "Train Accuracy: 0.235659 \tValid Accuracy: 0.154412\n",
      "voting_1_ ACC: 0.15476190476190477\n",
      "voting_3_ ACC: 0.22413793103448276\n",
      "voting_10_ ACC: 0.2857142857142857\n",
      "voting_all_ ACC: 0.3\n",
      "voting_1_ MAP :  0.6494912180367407\n",
      "voting_3_ MAP :  0.657536719188303\n",
      "voting_10_ MAP :  0.5155945419103314\n",
      "voting_all_ MAP :  0.8055555555555556\n",
      "voting_1_ F1 Score: 0.15476190476190477\n",
      "voting_3_ F1 Score: 0.22413793103448276\n",
      "voting_10_ F1 Score: 0.2857142857142857\n",
      "voting_all_ F1 Score: 0.3\n",
      "voting_1 top3:  0.4226190476190476\n",
      "voting_3 top3:  0.5\n",
      "voting_10 top3:  0.6666666666666666\n",
      "voting_all top3:  0.6\n",
      "epoch: 8\n"
     ]
    },
    {
     "name": "stderr",
     "output_type": "stream",
     "text": [
      "100%|██████████| 86/86 [00:01<00:00, 60.65it/s]\n",
      "100%|██████████| 17/17 [00:00<00:00, 133.15it/s]\n"
     ]
    },
    {
     "name": "stdout",
     "output_type": "stream",
     "text": [
      "Training Loss: 2.080339 \tValidation Loss: 2.254627\n",
      "Train Accuracy: 0.213566 \tValid Accuracy: 0.179412\n",
      "voting_1_ ACC: 0.17857142857142858\n",
      "voting_3_ ACC: 0.20689655172413793\n",
      "voting_10_ ACC: 0.23809523809523808\n",
      "voting_all_ ACC: 0.2\n",
      "voting_1_ MAP :  0.7395548989853229\n",
      "voting_3_ MAP :  0.7909815677478722\n",
      "voting_10_ MAP :  0.5776190476190477\n",
      "voting_all_ MAP :  0.8333333333333333\n",
      "voting_1_ F1 Score: 0.17857142857142858\n",
      "voting_3_ F1 Score: 0.20689655172413793\n",
      "voting_10_ F1 Score: 0.23809523809523808\n",
      "voting_all_ F1 Score: 0.20000000000000004\n",
      "voting_1 top3:  0.44642857142857145\n",
      "voting_3 top3:  0.5344827586206896\n",
      "voting_10 top3:  0.5238095238095238\n",
      "voting_all top3:  0.4\n",
      "epoch: 9\n"
     ]
    },
    {
     "name": "stderr",
     "output_type": "stream",
     "text": [
      "100%|██████████| 86/86 [00:01<00:00, 62.63it/s]\n",
      "100%|██████████| 17/17 [00:00<00:00, 136.38it/s]\n"
     ]
    },
    {
     "name": "stdout",
     "output_type": "stream",
     "text": [
      "Training Loss: 2.066657 \tValidation Loss: 2.299448\n",
      "Train Accuracy: 0.218992 \tValid Accuracy: 0.148529\n",
      "voting_1_ ACC: 0.1488095238095238\n",
      "voting_3_ ACC: 0.13793103448275862\n",
      "voting_10_ ACC: 0.19047619047619047\n",
      "voting_all_ ACC: 0.2\n",
      "voting_1_ MAP :  0.6102137280321459\n",
      "voting_3_ MAP :  0.6717147435897436\n",
      "voting_10_ MAP :  0.8875\n",
      "voting_all_ MAP :  0.8333333333333333\n",
      "voting_1_ F1 Score: 0.1488095238095238\n",
      "voting_3_ F1 Score: 0.13793103448275862\n",
      "voting_10_ F1 Score: 0.19047619047619047\n",
      "voting_all_ F1 Score: 0.20000000000000004\n",
      "voting_1 top3:  0.40476190476190477\n",
      "voting_3 top3:  0.3620689655172414\n",
      "voting_10 top3:  0.38095238095238093\n",
      "voting_all top3:  0.3\n",
      "epoch: 10\n"
     ]
    },
    {
     "name": "stderr",
     "output_type": "stream",
     "text": [
      "100%|██████████| 86/86 [00:01<00:00, 61.73it/s]\n",
      "100%|██████████| 17/17 [00:00<00:00, 136.04it/s]\n"
     ]
    },
    {
     "name": "stdout",
     "output_type": "stream",
     "text": [
      "Training Loss: 2.083581 \tValidation Loss: 2.267295\n",
      "Train Accuracy: 0.211240 \tValid Accuracy: 0.166176\n",
      "voting_1_ ACC: 0.16666666666666666\n",
      "voting_3_ ACC: 0.22413793103448276\n",
      "voting_10_ ACC: 0.23809523809523808\n",
      "voting_all_ ACC: 0.2\n",
      "voting_1_ MAP :  0.8645841643532531\n",
      "voting_3_ MAP :  0.8778789528789528\n",
      "voting_10_ MAP :  0.8625\n",
      "voting_all_ MAP :  1.0\n",
      "voting_1_ F1 Score: 0.16666666666666666\n",
      "voting_3_ F1 Score: 0.22413793103448276\n",
      "voting_10_ F1 Score: 0.23809523809523808\n",
      "voting_all_ F1 Score: 0.20000000000000004\n",
      "voting_1 top3:  0.4226190476190476\n",
      "voting_3 top3:  0.39655172413793105\n",
      "voting_10 top3:  0.38095238095238093\n",
      "voting_all top3:  0.4\n",
      "epoch: 11\n"
     ]
    },
    {
     "name": "stderr",
     "output_type": "stream",
     "text": [
      "100%|██████████| 86/86 [00:01<00:00, 61.76it/s]\n",
      "100%|██████████| 17/17 [00:00<00:00, 129.26it/s]\n"
     ]
    },
    {
     "name": "stdout",
     "output_type": "stream",
     "text": [
      "Training Loss: 2.064156 \tValidation Loss: 2.302263\n",
      "Train Accuracy: 0.219767 \tValid Accuracy: 0.170588\n",
      "voting_1_ ACC: 0.17261904761904762\n",
      "voting_3_ ACC: 0.1724137931034483\n",
      "voting_10_ ACC: 0.09523809523809523\n",
      "voting_all_ ACC: 0.2\n",
      "voting_1_ MAP :  0.6995624589520448\n",
      "voting_3_ MAP :  0.43424038774845225\n",
      "voting_10_ MAP :  0.75\n",
      "voting_all_ MAP :  0.8333333333333333\n",
      "voting_1_ F1 Score: 0.17261904761904762\n",
      "voting_3_ F1 Score: 0.1724137931034483\n",
      "voting_10_ F1 Score: 0.09523809523809523\n",
      "voting_all_ F1 Score: 0.20000000000000004\n",
      "voting_1 top3:  0.39285714285714285\n",
      "voting_3 top3:  0.46551724137931033\n",
      "voting_10 top3:  0.42857142857142855\n",
      "voting_all top3:  0.4\n",
      "epoch: 12\n"
     ]
    },
    {
     "name": "stderr",
     "output_type": "stream",
     "text": [
      "100%|██████████| 86/86 [00:01<00:00, 61.72it/s]\n",
      "100%|██████████| 17/17 [00:00<00:00, 141.14it/s]\n"
     ]
    },
    {
     "name": "stdout",
     "output_type": "stream",
     "text": [
      "Training Loss: 2.076787 \tValidation Loss: 2.260968\n",
      "Train Accuracy: 0.220930 \tValid Accuracy: 0.170588\n",
      "voting_1_ ACC: 0.17261904761904762\n",
      "voting_3_ ACC: 0.1896551724137931\n",
      "voting_10_ ACC: 0.19047619047619047\n",
      "voting_all_ ACC: 0.2\n",
      "voting_1_ MAP :  0.8898918819433649\n",
      "voting_3_ MAP :  0.8078410159749873\n",
      "voting_10_ MAP :  0.5520833333333333\n",
      "voting_all_ MAP :  1.0\n",
      "voting_1_ F1 Score: 0.17261904761904762\n",
      "voting_3_ F1 Score: 0.1896551724137931\n",
      "voting_10_ F1 Score: 0.19047619047619047\n",
      "voting_all_ F1 Score: 0.20000000000000004\n",
      "voting_1 top3:  0.4107142857142857\n",
      "voting_3 top3:  0.46551724137931033\n",
      "voting_10 top3:  0.5714285714285714\n",
      "voting_all top3:  0.6\n",
      "epoch: 13\n"
     ]
    },
    {
     "name": "stderr",
     "output_type": "stream",
     "text": [
      "100%|██████████| 86/86 [00:01<00:00, 60.78it/s]\n",
      "100%|██████████| 17/17 [00:00<00:00, 137.66it/s]\n"
     ]
    },
    {
     "name": "stdout",
     "output_type": "stream",
     "text": [
      "Training Loss: 2.093461 \tValidation Loss: 2.256172\n",
      "Train Accuracy: 0.229845 \tValid Accuracy: 0.186765\n",
      "voting_1_ ACC: 0.18452380952380953\n",
      "voting_3_ ACC: 0.15517241379310345\n",
      "voting_10_ ACC: 0.3333333333333333\n",
      "voting_all_ ACC: 0.3\n",
      "voting_1_ MAP :  0.8687884718671883\n",
      "voting_3_ MAP :  0.8755199049316698\n",
      "voting_10_ MAP :  0.6717592300077926\n",
      "voting_all_ MAP :  0.8055555555555556\n",
      "voting_1_ F1 Score: 0.18452380952380953\n",
      "voting_3_ F1 Score: 0.15517241379310345\n",
      "voting_10_ F1 Score: 0.3333333333333333\n",
      "voting_all_ F1 Score: 0.3\n",
      "voting_1 top3:  0.42857142857142855\n",
      "voting_3 top3:  0.5172413793103449\n",
      "voting_10 top3:  0.5238095238095238\n",
      "voting_all top3:  0.6\n",
      "epoch: 14\n"
     ]
    },
    {
     "name": "stderr",
     "output_type": "stream",
     "text": [
      "100%|██████████| 86/86 [00:01<00:00, 60.37it/s]\n",
      "100%|██████████| 17/17 [00:00<00:00, 133.92it/s]\n"
     ]
    },
    {
     "name": "stdout",
     "output_type": "stream",
     "text": [
      "Training Loss: 2.065935 \tValidation Loss: 2.313430\n",
      "Train Accuracy: 0.231783 \tValid Accuracy: 0.155882\n",
      "voting_1_ ACC: 0.15476190476190477\n",
      "voting_3_ ACC: 0.13793103448275862\n",
      "voting_10_ ACC: 0.09523809523809523\n",
      "voting_all_ ACC: 0.1\n",
      "voting_1_ MAP :  0.7345381556869671\n",
      "voting_3_ MAP :  0.6886228354978354\n",
      "voting_10_ MAP :  0.8333333333333333\n",
      "voting_all_ MAP :  1.0\n",
      "voting_1_ F1 Score: 0.15476190476190477\n",
      "voting_3_ F1 Score: 0.13793103448275862\n",
      "voting_10_ F1 Score: 0.09523809523809523\n",
      "voting_all_ F1 Score: 0.10000000000000002\n",
      "voting_1 top3:  0.3869047619047619\n",
      "voting_3 top3:  0.3793103448275862\n",
      "voting_10 top3:  0.42857142857142855\n",
      "voting_all top3:  0.4\n"
     ]
    }
   ],
   "source": [
    "import numpy as np\n",
    "import pandas as pd\n",
    "import os\n",
    "import cv2\n",
    "import glob\n",
    "import timm\n",
    "from tqdm import tqdm\n",
    "import random\n",
    "import matplotlib.pyplot as plt\n",
    "\n",
    "import torch\n",
    "import torch.nn as nn\n",
    "import torch.nn.functional as F\n",
    "import torch.optim as optim\n",
    "from torch.utils.data import Dataset, DataLoader\n",
    "import torchvision.transforms as transforms\n",
    "from torchvision.transforms import ToTensor\n",
    "from sklearn.metrics import accuracy_score\n",
    "from sklearn.metrics import confusion_matrix\n",
    "from sklearn.model_selection import train_test_split\n",
    "from sklearn.metrics import average_precision_score\n",
    "\n",
    "device = torch.device('cuda' if torch.cuda.is_available() else 'cpu')\n",
    "print(device)\n",
    "\n",
    "class CustomDataset(Dataset):\n",
    "    def __init__(self, csv, mode):\n",
    "        self.csv = csv\n",
    "        self.mode = mode\n",
    "\n",
    "    def __len__(self):\n",
    "        return self.csv.shape[0]\n",
    "\n",
    "    def __getitem__(self, idx):\n",
    "        file = self.csv.loc[idx, 'file']\n",
    "        label = torch.as_tensor(self.csv.loc[idx, 'label'], dtype=torch.long)\n",
    "        file = np.load(file)\n",
    "\n",
    "        return torch.Tensor(file).permute(2, 0, 1), label\n",
    "\n",
    "class ResNet50GRUClassifier(nn.Module):\n",
    "    def __init__(self, num_classes, hidden_size, num_layers):\n",
    "        super(ResNet50GRUClassifier, self).__init__()\n",
    "\n",
    "        self.resnet = timm.create_model('resnet50', pretrained=True)\n",
    "        self.resnet = nn.Sequential(*list(self.resnet.children())[:-1])\n",
    "\n",
    "        self.hidden_size = hidden_size\n",
    "        self.num_layers = num_layers\n",
    "        self.gru = nn.GRU(2048, hidden_size, num_layers, batch_first=True, dropout=0.5)\n",
    "\n",
    "        self.fc = nn.Linear(hidden_size, num_classes)\n",
    "\n",
    "    def forward(self, x):\n",
    "        features = self.resnet(x)\n",
    "        features = features.view(features.size(0), -1)\n",
    "\n",
    "        h0 = torch.zeros(self.num_layers, x.size(0), self.hidden_size).to(x.device)\n",
    "        out, _ = self.gru(features.unsqueeze(1), h0)\n",
    "\n",
    "        output = self.fc(out[:, -1, :])\n",
    "        return output\n",
    "\n",
    "def calculate_voting_3(model, dataloader):\n",
    "    voting_3 = 0\n",
    "    voting_3_t = 0\n",
    "\n",
    "    for data, labels in dataloader:\n",
    "        data, labels = data.to(device), labels.to(device)\n",
    "\n",
    "        with torch.no_grad():\n",
    "            outputs = model(data)\n",
    "            ps = F.softmax(outputs, dim=1)\n",
    "\n",
    "            top_p, top_class = ps.topk(1, dim=1)\n",
    "\n",
    "        for i in range(len(labels)):\n",
    "            label = labels[i]\n",
    "            prediction = top_class[i].item()\n",
    "            voting_3 += prediction == label\n",
    "            voting_3_t += 1\n",
    "\n",
    "    return (voting_3 / voting_3_t) * 100\n",
    "\n",
    "def set_seed(seed=0):\n",
    "    random.seed(seed)\n",
    "    np.random.seed(seed)\n",
    "    torch.manual_seed(seed)\n",
    "    torch.cuda.manual_seed(seed)\n",
    "    torch.cuda.manual_seed_all(seed)\n",
    "\n",
    "    torch.backends.cudnn.deterministic = True\n",
    "    torch.backends.cudnn.benchmark = False\n",
    "\n",
    "    torch.backends.cudnn.enabled = True\n",
    "    torch.backends.cudnn.benchmark = False\n",
    "\n",
    "set_seed(7777)\n",
    "\n",
    "device = torch.device('cuda' if torch.cuda.is_available() else 'cpu')\n",
    "print(device)\n",
    "\n",
    "# Load your data CSV file\n",
    "df = pd.read_csv('./20_longitudinal_spectrogram.csv')\n",
    "\n",
    "n_fold = 6  # 회차별\n",
    "# n_fold = 3 # 코스별\n",
    "\n",
    "for fold in range(0, n_fold):\n",
    "    print('------------------------------------------------------------------------')\n",
    "    print(f'Training for fold {fold + 1}/{n_fold} ...')\n",
    "\n",
    "    # Split the data into training and validation sets based on the fold\n",
    "    df_train = df[df['round'] != fold + 1]\n",
    "    df_valid = df[df['round'] == fold + 1]\n",
    "\n",
    "    # df_train = df[df['course'] != fold]\n",
    "    # df_valid = df[df['course'] == fold]\n",
    "\n",
    "    df_train = df_train.reset_index()\n",
    "    df_valid = df_valid.reset_index()\n",
    "\n",
    "    batch_size = 10\n",
    "\n",
    "    train_dataset = CustomDataset(df_train, 'train')\n",
    "    train_loader = DataLoader(train_dataset, batch_size=batch_size, shuffle=True)\n",
    "\n",
    "    valid_dataset = CustomDataset(df_valid, 'valid')\n",
    "    valid_loader = DataLoader(valid_dataset, batch_size=batch_size, shuffle=False)\n",
    "\n",
    "    n_epochs = 15\n",
    "\n",
    "    best_valid_loss = np.Inf\n",
    "    best_valid_accuracy = 0.0\n",
    "\n",
    "    train_loss = torch.zeros(n_epochs)\n",
    "    valid_loss = torch.zeros(n_epochs)\n",
    "    train_acc = torch.zeros(n_epochs)\n",
    "    valid_acc = torch.zeros(n_epochs)\n",
    "\n",
    "    # 모델 생성\n",
    "    num_classes = 20\n",
    "    hidden_size = 128\n",
    "    num_layers = 2\n",
    "\n",
    "    model = ResNet50GRUClassifier(num_classes, hidden_size, num_layers).to(device)\n",
    "\n",
    "    criterion = nn.CrossEntropyLoss()\n",
    "    optimizer = optim.Adam(model.parameters(), lr=0.001)\n",
    "    scheduler = optim.lr_scheduler.ReduceLROnPlateau(optimizer, mode='min', factor=0.1, patience=3, min_lr=1e-8,\n",
    "                                                     verbose=True)\n",
    "\n",
    "    for e in range(0, n_epochs): # train\n",
    "        print(f'epoch: {e}')\n",
    "\n",
    "        train_preds = []\n",
    "        train_probs = []\n",
    "        train_labels = []\n",
    "\n",
    "        model_preds = []\n",
    "        model_labels = []\n",
    "        model_probs = []\n",
    "\n",
    "        model.to(device)\n",
    "        model.train()\n",
    "\n",
    "        for data, labels in tqdm(train_loader):\n",
    "            labels = labels.type(torch.LongTensor)\n",
    "            data, labels = data.to(device), labels.to(device)\n",
    "\n",
    "            outputs = model(data)\n",
    "            loss = criterion(outputs, labels)\n",
    "\n",
    "            optimizer.zero_grad()\n",
    "            loss.backward()\n",
    "            optimizer.step()\n",
    "\n",
    "            train_loss[e] += loss.item()\n",
    "\n",
    "            ps = F.softmax(outputs, dim=1)\n",
    "            top_p, top_class = ps.topk(1, dim=1)\n",
    "            equals = top_class == labels.reshape(top_class.shape)\n",
    "            train_acc[e] += torch.mean(equals.type(torch.float)).detach().cpu()\n",
    "\n",
    "        train_loss[e] /= len(train_loader)\n",
    "        train_acc[e] /= len(train_loader)\n",
    "\n",
    "        with torch.no_grad(): # validation\n",
    "            model.eval()\n",
    "\n",
    "            val_loss = []\n",
    "            mse_loss = []\n",
    "            weight_loss = []\n",
    "\n",
    "            logit_list = []\n",
    "            target_list = []\n",
    "\n",
    "            # class 맞춘 개수\n",
    "            class_correct = torch.zeros(10)\n",
    "            # 전체 data를 class 별 갯수로 정리\n",
    "            class_total = torch.zeros(10)\n",
    "\n",
    "            for data, labels in tqdm(valid_loader):\n",
    "                labels = labels.type(torch.LongTensor)\n",
    "                data, labels = data.to(device), labels.to(device)\n",
    "\n",
    "                logits = model(data)\n",
    "                loss = criterion(logits, labels)\n",
    "\n",
    "                valid_loss[e] += loss.item()\n",
    "                val_loss.append(loss.detach().cpu().numpy())\n",
    "\n",
    "                ps = F.softmax(logits, dim=1)\n",
    "                top_p, top_class = ps.topk(1, dim=1)\n",
    "                equals = top_class == labels.reshape(top_class.shape)\n",
    "                valid_acc[e] += torch.mean(equals.type(torch.float)).detach().cpu()\n",
    "\n",
    "                ps = ps.detach().cpu().numpy()\n",
    "                labels = labels.detach().cpu().numpy()\n",
    "\n",
    "                for i in range(len(labels)):\n",
    "                    label = labels[i]\n",
    "                    class_correct[label] += equals[i].item()\n",
    "                    class_total[label] += 1\n",
    "\n",
    "                    logit_list.append(ps[i])\n",
    "                    target_list.append(labels[i])\n",
    "\n",
    "\n",
    "            voting_1 = 0\n",
    "            voting_1_t = 0\n",
    "            voting_3 = 0\n",
    "            voting_3_t = 0\n",
    "            voting_10 = 0\n",
    "            voting_10_t = 0\n",
    "            vote_all = 0\n",
    "            vote_all_t = 0\n",
    "\n",
    "            voting_1_top3 = 0\n",
    "            voting_1_top3_t = 0\n",
    "            voting_3_top3 = 0\n",
    "            voting_3_top3_t = 0\n",
    "            voting_10_top3 = 0\n",
    "            voting_10_top3_t = 0\n",
    "            voting_all_top3 = 0\n",
    "            voting_all_top3_t = 0\n",
    "\n",
    "            voting_1_TP_total = 0\n",
    "            voting_1_FP_total = 0\n",
    "            voting_1_FN_total = 0\n",
    "            voting_3_TP_total = 0\n",
    "            voting_3_FP_total = 0\n",
    "            voting_3_FN_total = 0\n",
    "            voting_10_TP_total = 0\n",
    "            voting_10_FP_total = 0\n",
    "            voting_10_FN_total = 0\n",
    "            voting_all_TP_total = 0\n",
    "            voting_all_FP_total = 0\n",
    "            voting_all_FN_total = 0\n",
    "\n",
    "            y_true_1, y_scores_1 = [], []\n",
    "            y_true_3, y_scores_3 = [], []\n",
    "            y_true_10, y_scores_10 = [], []\n",
    "            y_true_all, y_scores_all = [], []\n",
    "\n",
    "            # 사람 위치 찾기\n",
    "            for i in range(len(ps[0])):\n",
    "                people_index = list(filter(lambda x: target_list[x] == i, range(len(target_list))))\n",
    "\n",
    "                if len(people_index) == 0:\n",
    "                    continue  # 해당 레이블과 일치하는 데이터가 없는 경우 다음 반복으로 건너뜁니다.\n",
    "\n",
    "                softmax = sum([logit_list[x] for x in people_index]) / len(people_index)\n",
    "                vote_all += np.argmax(softmax) == i\n",
    "                vote_all_t += 1\n",
    "\n",
    "                top_3_indices = np.argsort(softmax)[-3:]\n",
    "                voting_all_top3 += i in top_3_indices\n",
    "                voting_all_top3_t += 1\n",
    "\n",
    "                pred_label = np.argmax(softmax)\n",
    "\n",
    "\n",
    "\n",
    "                # F1 점수를 위한 카운팅\n",
    "                if pred_label == i:\n",
    "                    voting_all_TP_total += 1\n",
    "                else:\n",
    "                    voting_all_FP_total += 1\n",
    "                    voting_all_FN_total += 1\n",
    "\n",
    "                y_scores_all.append(softmax[i])\n",
    "                y_true_all.append(pred_label == i)\n",
    "\n",
    "                for x in range(0, len(people_index), 1):\n",
    "                    softmax_1 = sum([logit_list[j] for j in people_index[x:x + 1]])\n",
    "                    voting_1 += np.argmax(softmax_1) == i\n",
    "                    voting_1_t += 1\n",
    "\n",
    "                    top_3_indices = np.argsort(softmax_1)[-3:]\n",
    "                    voting_1_top3 += i in top_3_indices\n",
    "                    voting_1_top3_t += 1\n",
    "\n",
    "                    pred_label = np.argmax(softmax_1)\n",
    "\n",
    "                    # F1 점수를 위한 카운팅\n",
    "                    if pred_label == i:\n",
    "                        voting_1_TP_total += 1\n",
    "                    else:\n",
    "                        voting_1_FP_total += 1\n",
    "                        voting_1_FN_total += 1\n",
    "\n",
    "                    y_scores_1.append(softmax_1[i])\n",
    "                    y_true_1.append(pred_label == i)\n",
    "\n",
    "                for x in range(0, len(people_index), 3):\n",
    "                    softmax_3 = sum([logit_list[j] for j in people_index[x:x + 3]])\n",
    "                    voting_3 += np.argmax(softmax_3) == i\n",
    "                    voting_3_t += 1\n",
    "\n",
    "                    top_3_indices = np.argsort(softmax_3)[-3:]\n",
    "                    voting_3_top3 += i in top_3_indices\n",
    "                    voting_3_top3_t += 1\n",
    "\n",
    "                    pred_label = np.argmax(softmax_3)\n",
    "\n",
    "                    # F1 점수를 위한 카운팅\n",
    "                    if pred_label == i:\n",
    "                        voting_3_TP_total += 1\n",
    "                    else:\n",
    "                        voting_3_FP_total += 1\n",
    "                        voting_3_FN_total += 1\n",
    "\n",
    "                    y_scores_3.append(softmax_3[i])\n",
    "                    y_true_3.append(pred_label == i)\n",
    "\n",
    "                for x in range(0, len(people_index), 10):\n",
    "                    softmax_10 = sum([logit_list[j] for j in people_index[x:x + 10]])\n",
    "                    voting_10 += np.argmax(softmax_10) == i\n",
    "                    voting_10_t += 1\n",
    "\n",
    "                    top_3_indices = np.argsort(softmax_10)[-3:]\n",
    "                    voting_10_top3 += i in top_3_indices\n",
    "                    voting_10_top3_t += 1\n",
    "\n",
    "                    pred_label = np.argmax(softmax_10)\n",
    "\n",
    "                    # F1 점수를 위한 카운팅\n",
    "                    if pred_label == i:\n",
    "                        voting_10_TP_total += 1\n",
    "                    else:\n",
    "                        voting_10_FP_total += 1\n",
    "                        voting_10_FN_total += 1\n",
    "\n",
    "                    y_scores_10.append(softmax_10[i])\n",
    "                    y_true_10.append(pred_label == i)\n",
    "\n",
    "        valid_loss[e] /= len(valid_loader)\n",
    "        valid_acc[e] /= len(valid_loader)\n",
    "\n",
    "        print('Training Loss: {:.6f} \\tValidation Loss: {:.6f}'.format(train_loss[e], valid_loss[e]))\n",
    "        print('Train Accuracy: {:.6f} \\tValid Accuracy: {:.6f}'.format(train_acc[e], valid_acc[e]))\n",
    "\n",
    "        if valid_loss[e] <= best_valid_loss:\n",
    "            print('Validation loss decreased ({:.6f} --> {:.6f}).  Saving model ...'.format(best_valid_loss,\n",
    "                                                                                            valid_loss[e]))\n",
    "            torch.save(model.state_dict(), f'./model/{fold+1}round_20person.pt')\n",
    "            best_valid_loss = valid_loss[e]\n",
    "\n",
    "        model.load_state_dict(torch.load(f'./model/{fold+1}round_20person.pt'))\n",
    "\n",
    "        # After training for each fold, you can calculate the voting_3 and voting_10 for that fold:\n",
    "        voting_1_accuracy = (voting_1/voting_1_t)\n",
    "        voting_3_accuracy = (voting_3 / voting_3_t)\n",
    "        voting_10_accuracy = (voting_10 / voting_10_t)\n",
    "        voting_all_accuracy = (vote_all / vote_all_t)\n",
    "\n",
    "        print(f\"voting_1_ ACC: {voting_1_accuracy}\")\n",
    "        print(f\"voting_3_ ACC: {voting_3_accuracy}\")\n",
    "        print(f\"voting_10_ ACC: {voting_10_accuracy}\")\n",
    "        print(f\"voting_all_ ACC: {voting_all_accuracy}\")\n",
    "\n",
    "        # 전체 F1 점수 계산\n",
    "        voting_1_precision_total = voting_1_TP_total / (voting_1_TP_total + voting_1_FP_total) if (voting_1_TP_total + voting_1_FP_total) > 0 else 0\n",
    "        voting_1_recall_total = voting_1_TP_total / (voting_1_TP_total + voting_1_FN_total) if (voting_1_TP_total + voting_1_FN_total) > 0 else 0\n",
    "        voting_1_f1_total = 2 * (voting_1_precision_total * voting_1_recall_total) / (voting_1_precision_total + voting_1_recall_total) if (voting_1_precision_total + voting_1_recall_total) > 0 else 0\n",
    "\n",
    "        voting_3_precision_total = voting_3_TP_total / (voting_3_TP_total + voting_3_FP_total) if (voting_3_TP_total + voting_3_FP_total) > 0 else 0\n",
    "        voting_3_recall_total = voting_3_TP_total / (voting_3_TP_total + voting_3_FN_total) if (voting_3_TP_total + voting_3_FN_total) > 0 else 0\n",
    "        voting_3_f1_total = 2 * (voting_3_precision_total * voting_3_recall_total) / (voting_3_precision_total + voting_3_recall_total) if (voting_3_precision_total + voting_3_recall_total) > 0 else 0\n",
    "\n",
    "        voting_10_precision_total = voting_10_TP_total / (voting_10_TP_total + voting_10_FP_total) if (voting_10_TP_total + voting_10_FP_total) > 0 else 0\n",
    "        voting_10_recall_total = voting_10_TP_total / (voting_10_TP_total + voting_10_FN_total) if (voting_10_TP_total + voting_10_FN_total) > 0 else 0\n",
    "        voting_10_f1_total = 2 * (voting_10_precision_total * voting_10_recall_total) / (voting_10_precision_total + voting_10_recall_total) if (voting_10_precision_total + voting_10_recall_total) > 0 else 0\n",
    "\n",
    "        voting_all_precision_total = voting_all_TP_total / (voting_all_TP_total + voting_all_FP_total) if (voting_all_TP_total + voting_all_FP_total) > 0 else 0\n",
    "        voting_all_recall_total = voting_all_TP_total / (voting_all_TP_total + voting_all_FN_total) if (voting_all_TP_total + voting_all_FN_total) > 0 else 0\n",
    "        voting_all_f1_total = 2 * (voting_all_precision_total * voting_all_recall_total) / (voting_all_precision_total + voting_all_recall_total) if (voting_all_precision_total + voting_all_recall_total) > 0 else 0\n",
    "\n",
    "        mAP_1 = average_precision_score(y_true_1, y_scores_1)\n",
    "        print('voting_1_ MAP : ',mAP_1)\n",
    "\n",
    "        mAP_3 = average_precision_score(y_true_3, y_scores_3)\n",
    "        print('voting_3_ MAP : ', mAP_3)\n",
    "\n",
    "        mAP_10 = average_precision_score(y_true_10, y_scores_10)\n",
    "        print('voting_10_ MAP : ', mAP_10)\n",
    "\n",
    "        mAP_all = average_precision_score(y_true_all, y_scores_all)\n",
    "        print('voting_all_ MAP : ', mAP_all)\n",
    "\n",
    "        print(f\"voting_1_ F1 Score: {voting_1_f1_total}\")\n",
    "        print(f\"voting_3_ F1 Score: {voting_3_f1_total}\")\n",
    "        print(f\"voting_10_ F1 Score: {voting_10_f1_total}\")\n",
    "        print(f\"voting_all_ F1 Score: {voting_all_f1_total}\")\n",
    "\n",
    "        # print(f'Voting_1 Accuracy for fold {fold + 1}: {voting_1_accuracy}%')\n",
    "        print('voting_1 top3: ', voting_1_top3/voting_1_top3_t)\n",
    "        # print(f'Voting_3 Accuracy for fold {fold + 1}: {voting_3_accuracy}%')\n",
    "        print('voting_3 top3: ', voting_3_top3 / voting_3_top3_t)\n",
    "        # print(f'Voting_10 Accuracy for fold {fold + 1}: {voting_10_accuracy}%')\n",
    "        print('voting_10 top3: ', voting_10_top3 / voting_10_top3_t)\n",
    "        # print(f'Voting_all Accuracy for fold {fold + 1}: {voting_all_accuracy}%')\n",
    "        print('voting_all top3: ', voting_all_top3 / voting_all_top3_t)\n"
   ]
  },
  {
   "cell_type": "code",
   "execution_count": null,
   "id": "f195e046-90c9-4ed7-b4b6-db7cff324221",
   "metadata": {},
   "outputs": [],
   "source": []
  }
 ],
 "metadata": {
  "kernelspec": {
   "display_name": "Python 3 (ipykernel)",
   "language": "python",
   "name": "python3"
  },
  "language_info": {
   "codemirror_mode": {
    "name": "ipython",
    "version": 3
   },
   "file_extension": ".py",
   "mimetype": "text/x-python",
   "name": "python",
   "nbconvert_exporter": "python",
   "pygments_lexer": "ipython3",
   "version": "3.11.5"
  }
 },
 "nbformat": 4,
 "nbformat_minor": 5
}
