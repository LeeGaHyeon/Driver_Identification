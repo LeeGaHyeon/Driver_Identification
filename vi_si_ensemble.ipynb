{
 "cells": [
  {
   "cell_type": "code",
   "execution_count": 1,
   "id": "6a8171ae-78f9-4e33-ae45-e8a7855cfccf",
   "metadata": {
    "tags": []
   },
   "outputs": [],
   "source": [
    "import pandas as pd\n",
    "import numpy as np\n",
    "import glob\n",
    "from sklearn.metrics import accuracy_score"
   ]
  },
  {
   "cell_type": "code",
   "execution_count": 12,
   "id": "21493f16-b1ce-4901-a018-eaeb405537ce",
   "metadata": {
    "tags": []
   },
   "outputs": [],
   "source": [
    "# CSV 파일 경로 리스트\n",
    "csv_files = [\n",
    "    './prob/vi_round_1_avg_prob.csv', \n",
    "    './prob/round_1_avg_prob.csv'\n",
    "]"
   ]
  },
  {
   "cell_type": "code",
   "execution_count": 13,
   "id": "98dade7c-8db4-4983-9474-88b7e99d9d0b",
   "metadata": {
    "tags": []
   },
   "outputs": [],
   "source": [
    "dfs = []"
   ]
  },
  {
   "cell_type": "code",
   "execution_count": 14,
   "id": "1a35c4dd-25df-4ba8-9a7c-bb8050d4395d",
   "metadata": {
    "tags": []
   },
   "outputs": [],
   "source": [
    "for file in csv_files:\n",
    "    df = pd.read_csv(file)\n",
    "    dfs.append(df)"
   ]
  },
  {
   "cell_type": "code",
   "execution_count": 15,
   "id": "9993ceef-12c4-4c22-af64-7a11ac17d0d8",
   "metadata": {
    "tags": []
   },
   "outputs": [],
   "source": [
    "ensemble_df = pd.concat(dfs).groupby('val_1').mean().reset_index()"
   ]
  },
  {
   "cell_type": "code",
   "execution_count": 16,
   "id": "3cd513fb-44b2-4b01-927d-bcb556f02d5e",
   "metadata": {
    "tags": []
   },
   "outputs": [
    {
     "name": "stdout",
     "output_type": "stream",
     "text": [
      "   val_1       0       1       2       3       4       5       6       7\n",
      "0      0  0.1550  0.1775  0.0915  0.0615  0.1290  0.0400  0.2840  0.0620\n",
      "1      1  0.1540  0.1345  0.1015  0.0860  0.1280  0.0725  0.2105  0.1135\n",
      "2      2  0.1065  0.0985  0.1010  0.1970  0.1905  0.1335  0.0865  0.0870\n",
      "3      3  0.0450  0.0895  0.1055  0.3095  0.1865  0.1410  0.0500  0.0720\n",
      "4      4  0.0800  0.0835  0.1025  0.1935  0.1825  0.1395  0.0950  0.1230\n",
      "5      5  0.0410  0.0735  0.0920  0.1665  0.1635  0.2850  0.0485  0.1295\n",
      "6      6  0.1120  0.1605  0.1435  0.0630  0.1510  0.0555  0.2430  0.0705\n",
      "7      7  0.1175  0.1500  0.1370  0.0745  0.1935  0.0700  0.1710  0.0870\n"
     ]
    }
   ],
   "source": [
    "print(ensemble_df)"
   ]
  },
  {
   "cell_type": "code",
   "execution_count": 17,
   "id": "40d9086e-da0e-4331-8207-a760d9060177",
   "metadata": {
    "tags": []
   },
   "outputs": [],
   "source": [
    "predicted_labels = ensemble_df.drop('val_1', axis=1).idxmax(axis=1).astype(int)"
   ]
  },
  {
   "cell_type": "code",
   "execution_count": 18,
   "id": "c3b00c2a-64d0-4e5f-8e0e-5a41d3c3f53d",
   "metadata": {
    "tags": []
   },
   "outputs": [],
   "source": [
    "actual_labels = ensemble_df['val_1'].astype(int)"
   ]
  },
  {
   "cell_type": "code",
   "execution_count": 19,
   "id": "afa39beb-29a9-4f1d-aafe-dccfbd5fad68",
   "metadata": {
    "tags": []
   },
   "outputs": [],
   "source": [
    "accuracy = accuracy_score(actual_labels, predicted_labels)"
   ]
  },
  {
   "cell_type": "code",
   "execution_count": 21,
   "id": "cb52e07a-a4a5-409f-a3e3-6dbf2f696b49",
   "metadata": {
    "tags": []
   },
   "outputs": [
    {
     "name": "stdout",
     "output_type": "stream",
     "text": [
      "round1 ensemble accuracy: 0.3750\n"
     ]
    }
   ],
   "source": [
    "print(f'round1 ensemble accuracy: {accuracy:.4f}')"
   ]
  },
  {
   "cell_type": "code",
   "execution_count": 2,
   "id": "c9bdc3c2-122b-4ad0-9065-96aeae939af2",
   "metadata": {
    "tags": []
   },
   "outputs": [
    {
     "name": "stdout",
     "output_type": "stream",
     "text": [
      "round3 ensemble Top-1 accuracy: 0.3750\n",
      "round1 ensemble Top-3 accuracy: 0.7500\n"
     ]
    }
   ],
   "source": [
    "import pandas as pd\n",
    "from sklearn.metrics import accuracy_score, top_k_accuracy_score\n",
    "\n",
    "# CSV 파일 경로 리스트\n",
    "csv_files = [\n",
    "    './prob/vi_round_1_avg_prob.csv', \n",
    "    './prob/round_1_avg_prob.csv'\n",
    "]\n",
    "\n",
    "# 데이터프레임을 저장할 리스트 초기화\n",
    "dfs = []\n",
    "\n",
    "# 각 파일을 순회하면서 데이터프레임을 읽어 리스트에 추가\n",
    "for file in csv_files:\n",
    "    df = pd.read_csv(file)\n",
    "    dfs.append(df)\n",
    "    \n",
    "# 데이터프레임을 결합하고, 'val_4' 값을 기준으로 그룹화하여 평균을 계산\n",
    "ensemble_df = pd.concat(dfs).groupby('val_1').mean().reset_index()\n",
    "\n",
    "# 예측 레이블 계산: 각 행에서 가장 큰 값의 인덱스를 예측 레이블로 선택\n",
    "predicted_labels = ensemble_df.drop('val_1', axis=1).idxmax(axis=1).astype(int)\n",
    "\n",
    "# 실제 레이블\n",
    "actual_labels = ensemble_df['val_1'].astype(int)\n",
    "\n",
    "# Top-1 정확도 계산\n",
    "accuracy = accuracy_score(actual_labels, predicted_labels)\n",
    "print(f'round3 ensemble Top-1 accuracy: {accuracy:.4f}')\n",
    "\n",
    "# 예측 확률과 실제 레이블 준비\n",
    "probabilities = ensemble_df.drop('val_1', axis=1).values\n",
    "actual_labels_for_top_k = ensemble_df['val_1'].values\n",
    "\n",
    "# Top-2 정확도 계산\n",
    "top2_accuracy = top_k_accuracy_score(actual_labels_for_top_k, probabilities, k=3)\n",
    "print(f'round1 ensemble Top-3 accuracy: {top2_accuracy:.4f}')"
   ]
  },
  {
   "cell_type": "code",
   "execution_count": 3,
   "id": "97486863-c469-4afc-aafa-969515edcfa9",
   "metadata": {
    "tags": []
   },
   "outputs": [
    {
     "name": "stdout",
     "output_type": "stream",
     "text": [
      "round3 ensemble Top-1 accuracy: 0.3750\n",
      "round2 ensemble Top-3 accuracy: 0.8750\n"
     ]
    }
   ],
   "source": [
    "import pandas as pd\n",
    "from sklearn.metrics import accuracy_score, top_k_accuracy_score\n",
    "\n",
    "# CSV 파일 경로 리스트\n",
    "csv_files = [\n",
    "    './prob/vi_round_2_avg_prob.csv', \n",
    "    './prob/round_2_avg_prob.csv'\n",
    "]\n",
    "\n",
    "# 데이터프레임을 저장할 리스트 초기화\n",
    "dfs = []\n",
    "\n",
    "# 각 파일을 순회하면서 데이터프레임을 읽어 리스트에 추가\n",
    "for file in csv_files:\n",
    "    df = pd.read_csv(file)\n",
    "    dfs.append(df)\n",
    "    \n",
    "# 데이터프레임을 결합하고, 'val_4' 값을 기준으로 그룹화하여 평균을 계산\n",
    "ensemble_df = pd.concat(dfs).groupby('val_2').mean().reset_index()\n",
    "\n",
    "# 예측 레이블 계산: 각 행에서 가장 큰 값의 인덱스를 예측 레이블로 선택\n",
    "predicted_labels = ensemble_df.drop('val_2', axis=1).idxmax(axis=1).astype(int)\n",
    "\n",
    "# 실제 레이블\n",
    "actual_labels = ensemble_df['val_2'].astype(int)\n",
    "\n",
    "# Top-1 정확도 계산\n",
    "accuracy = accuracy_score(actual_labels, predicted_labels)\n",
    "print(f'round3 ensemble Top-1 accuracy: {accuracy:.4f}')\n",
    "\n",
    "# 예측 확률과 실제 레이블 준비\n",
    "probabilities = ensemble_df.drop('val_2', axis=1).values\n",
    "actual_labels_for_top_k = ensemble_df['val_2'].values\n",
    "\n",
    "# Top-2 정확도 계산\n",
    "top2_accuracy = top_k_accuracy_score(actual_labels_for_top_k, probabilities, k=3)\n",
    "print(f'round2 ensemble Top-3 accuracy: {top2_accuracy:.4f}')"
   ]
  },
  {
   "cell_type": "code",
   "execution_count": 5,
   "id": "8817bbb2-ffb8-48c3-8ba0-97b403addc32",
   "metadata": {
    "tags": []
   },
   "outputs": [
    {
     "name": "stdout",
     "output_type": "stream",
     "text": [
      "round3 ensemble Top-1 accuracy: 0.2500\n",
      "round3 ensemble Top-3 accuracy: 0.8750\n"
     ]
    }
   ],
   "source": [
    "import pandas as pd\n",
    "from sklearn.metrics import accuracy_score, top_k_accuracy_score\n",
    "\n",
    "# CSV 파일 경로 리스트\n",
    "csv_files = [\n",
    "    './prob/vi_round_3_avg_prob.csv', \n",
    "    './prob/round_3_avg_prob.csv'\n",
    "]\n",
    "\n",
    "# 데이터프레임을 저장할 리스트 초기화\n",
    "dfs = []\n",
    "\n",
    "# 각 파일을 순회하면서 데이터프레임을 읽어 리스트에 추가\n",
    "for file in csv_files:\n",
    "    df = pd.read_csv(file)\n",
    "    dfs.append(df)\n",
    "    \n",
    "# 데이터프레임을 결합하고, 'val_4' 값을 기준으로 그룹화하여 평균을 계산\n",
    "ensemble_df = pd.concat(dfs).groupby('val_3').mean().reset_index()\n",
    "\n",
    "# 예측 레이블 계산: 각 행에서 가장 큰 값의 인덱스를 예측 레이블로 선택\n",
    "predicted_labels = ensemble_df.drop('val_3', axis=1).idxmax(axis=1).astype(int)\n",
    "\n",
    "# 실제 레이블\n",
    "actual_labels = ensemble_df['val_3'].astype(int)\n",
    "\n",
    "# Top-1 정확도 계산\n",
    "accuracy = accuracy_score(actual_labels, predicted_labels)\n",
    "print(f'round3 ensemble Top-1 accuracy: {accuracy:.4f}')\n",
    "\n",
    "# 예측 확률과 실제 레이블 준비\n",
    "probabilities = ensemble_df.drop('val_3', axis=1).values\n",
    "actual_labels_for_top_k = ensemble_df['val_3'].values\n",
    "\n",
    "# Top-2 정확도 계산\n",
    "top2_accuracy = top_k_accuracy_score(actual_labels_for_top_k, probabilities, k=3)\n",
    "print(f'round3 ensemble Top-3 accuracy: {top2_accuracy:.4f}')"
   ]
  },
  {
   "cell_type": "code",
   "execution_count": 6,
   "id": "e9c319e4-fbf9-41ad-8285-f61fb624dbe7",
   "metadata": {
    "tags": []
   },
   "outputs": [
    {
     "name": "stdout",
     "output_type": "stream",
     "text": [
      "round4 ensemble Top-1 accuracy: 0.7500\n",
      "round4 ensemble Top-3 accuracy: 1.0000\n"
     ]
    }
   ],
   "source": [
    "import pandas as pd\n",
    "from sklearn.metrics import accuracy_score, top_k_accuracy_score\n",
    "\n",
    "# CSV 파일 경로 리스트\n",
    "csv_files = [\n",
    "    './prob/vi_round_4_avg_prob.csv', \n",
    "    './prob/round_4_avg_prob.csv'\n",
    "]\n",
    "\n",
    "# 데이터프레임을 저장할 리스트 초기화\n",
    "dfs = []\n",
    "\n",
    "# 각 파일을 순회하면서 데이터프레임을 읽어 리스트에 추가\n",
    "for file in csv_files:\n",
    "    df = pd.read_csv(file)\n",
    "    dfs.append(df)\n",
    "    \n",
    "# 데이터프레임을 결합하고, 'val_4' 값을 기준으로 그룹화하여 평균을 계산\n",
    "ensemble_df = pd.concat(dfs).groupby('val_4').mean().reset_index()\n",
    "\n",
    "# 예측 레이블 계산: 각 행에서 가장 큰 값의 인덱스를 예측 레이블로 선택\n",
    "predicted_labels = ensemble_df.drop('val_4', axis=1).idxmax(axis=1).astype(int)\n",
    "\n",
    "# 실제 레이블\n",
    "actual_labels = ensemble_df['val_4'].astype(int)\n",
    "\n",
    "# Top-1 정확도 계산\n",
    "accuracy = accuracy_score(actual_labels, predicted_labels)\n",
    "print(f'round4 ensemble Top-1 accuracy: {accuracy:.4f}')\n",
    "\n",
    "# 예측 확률과 실제 레이블 준비\n",
    "probabilities = ensemble_df.drop('val_4', axis=1).values\n",
    "actual_labels_for_top_k = ensemble_df['val_4'].values\n",
    "\n",
    "# Top-2 정확도 계산\n",
    "top2_accuracy = top_k_accuracy_score(actual_labels_for_top_k, probabilities, k=3)\n",
    "print(f'round4 ensemble Top-3 accuracy: {top2_accuracy:.4f}')"
   ]
  },
  {
   "cell_type": "code",
   "execution_count": 7,
   "id": "91bccd0b-03ca-48c1-b6d0-3b407781ed14",
   "metadata": {
    "tags": []
   },
   "outputs": [
    {
     "name": "stdout",
     "output_type": "stream",
     "text": [
      "round5 ensemble Top-1 accuracy: 1.0000\n",
      "round5 ensemble Top-3 accuracy: 1.0000\n"
     ]
    }
   ],
   "source": [
    "import pandas as pd\n",
    "from sklearn.metrics import accuracy_score, top_k_accuracy_score\n",
    "\n",
    "# CSV 파일 경로 리스트\n",
    "csv_files = [\n",
    "    './prob/vi_round_5_avg_prob.csv', \n",
    "    './prob/round_5_avg_prob.csv'\n",
    "]\n",
    "\n",
    "# 데이터프레임을 저장할 리스트 초기화\n",
    "dfs = []\n",
    "\n",
    "# 각 파일을 순회하면서 데이터프레임을 읽어 리스트에 추가\n",
    "for file in csv_files:\n",
    "    df = pd.read_csv(file)\n",
    "    dfs.append(df)\n",
    "    \n",
    "# 데이터프레임을 결합하고, 'val_5' 값을 기준으로 그룹화하여 평균을 계산\n",
    "ensemble_df = pd.concat(dfs).groupby('val_5').mean().reset_index()\n",
    "\n",
    "# 예측 레이블 계산: 각 행에서 가장 큰 값의 인덱스를 예측 레이블로 선택\n",
    "predicted_labels = ensemble_df.drop('val_5', axis=1).idxmax(axis=1).astype(int)\n",
    "\n",
    "# 실제 레이블\n",
    "actual_labels = ensemble_df['val_5'].astype(int)\n",
    "\n",
    "# Top-1 정확도 계산\n",
    "accuracy = accuracy_score(actual_labels, predicted_labels)\n",
    "print(f'round5 ensemble Top-1 accuracy: {accuracy:.4f}')\n",
    "\n",
    "# 예측 확률과 실제 레이블 준비\n",
    "probabilities = ensemble_df.drop('val_5', axis=1).values\n",
    "actual_labels_for_top_k = ensemble_df['val_5'].values\n",
    "\n",
    "# Top-2 정확도 계산\n",
    "top2_accuracy = top_k_accuracy_score(actual_labels_for_top_k, probabilities, k=3)\n",
    "print(f'round5 ensemble Top-3 accuracy: {top2_accuracy:.4f}')"
   ]
  },
  {
   "cell_type": "code",
   "execution_count": 8,
   "id": "a91d54fd-4c1b-4938-a3bb-f029c21deff6",
   "metadata": {
    "tags": []
   },
   "outputs": [
    {
     "name": "stdout",
     "output_type": "stream",
     "text": [
      "round6 ensemble Top-1 accuracy: 0.3750\n",
      "round6 ensemble Top-3 accuracy: 0.8750\n"
     ]
    }
   ],
   "source": [
    "import pandas as pd\n",
    "from sklearn.metrics import accuracy_score, top_k_accuracy_score\n",
    "\n",
    "# CSV 파일 경로 리스트\n",
    "csv_files = [\n",
    "    './prob/vi_round_6_avg_prob.csv', \n",
    "    './prob/round_6_avg_prob.csv'\n",
    "]\n",
    "\n",
    "dfs = []\n",
    "\n",
    "for file in csv_files:\n",
    "    df = pd.read_csv(file)\n",
    "    dfs.append(df)\n",
    "    \n",
    "ensemble_df = pd.concat(dfs).groupby('val_6').mean().reset_index()\n",
    "\n",
    "# Top-1 예측 레이블\n",
    "predicted_labels = ensemble_df.drop('val_6', axis=1).idxmax(axis=1).astype(int)\n",
    "\n",
    "# 실제 레이블\n",
    "actual_labels = ensemble_df['val_6'].astype(int)\n",
    "\n",
    "# Top-1 정확도\n",
    "accuracy = accuracy_score(actual_labels, predicted_labels)\n",
    "print(f'round6 ensemble Top-1 accuracy: {accuracy:.4f}')\n",
    "\n",
    "# Top-2 정확도 계산을 위한 예측 확률과 실제 레이블\n",
    "probabilities = ensemble_df.drop('val_6', axis=1).values\n",
    "actual_labels_for_top_k = ensemble_df['val_6'].values\n",
    "\n",
    "# Top-2 정확도\n",
    "top2_accuracy = top_k_accuracy_score(actual_labels_for_top_k, probabilities, k=3)\n",
    "print(f'round6 ensemble Top-3 accuracy: {top2_accuracy:.4f}')"
   ]
  },
  {
   "cell_type": "code",
   "execution_count": null,
   "id": "a29d0fe5-a08e-47c0-a225-367a6141e919",
   "metadata": {},
   "outputs": [],
   "source": []
  }
 ],
 "metadata": {
  "kernelspec": {
   "display_name": "Python 3 (ipykernel)",
   "language": "python",
   "name": "python3"
  },
  "language_info": {
   "codemirror_mode": {
    "name": "ipython",
    "version": 3
   },
   "file_extension": ".py",
   "mimetype": "text/x-python",
   "name": "python",
   "nbconvert_exporter": "python",
   "pygments_lexer": "ipython3",
   "version": "3.11.5"
  }
 },
 "nbformat": 4,
 "nbformat_minor": 5
}
